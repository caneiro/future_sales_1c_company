{
 "cells": [
  {
   "cell_type": "markdown",
   "metadata": {
    "ExecuteTime": {
     "end_time": "2020-08-05T00:21:42.525077Z",
     "start_time": "2020-08-05T00:21:42.521233Z"
    }
   },
   "source": [
    "# Predict Future Sale - LightGBM - Baseline\n",
    "## Final project for \"How to win a data science competition\" Coursera course\n",
    "https://www.kaggle.com/c/competitive-data-science-predict-future-sales/data  \n",
    ">Student: Rafael Caneiro de Oliveira  \n",
    ">Email: rafael.caneiro@gmail.com  \n",
    ">Date: 15/12/2020"
   ]
  },
  {
   "cell_type": "markdown",
   "metadata": {},
   "source": [
    "## Load"
   ]
  },
  {
   "cell_type": "code",
   "execution_count": 59,
   "metadata": {
    "ExecuteTime": {
     "end_time": "2020-12-15T21:37:43.174301Z",
     "start_time": "2020-12-15T21:37:42.508236Z"
    }
   },
   "outputs": [],
   "source": [
    "import numpy as np\n",
    "import pandas as pd\n",
    "from itertools import product\n",
    "\n",
    "from pathlib import Path\n",
    "import matplotlib.pyplot as plt\n",
    "%matplotlib inline\n",
    "\n",
    "PATH = Path.cwd().parent\n",
    "DATA_PATH = Path(PATH, \"./data/raw/\") \n",
    "MODEL_PATH = Path(PATH, \"./models/\") \n",
    "\n",
    "seed = 42"
   ]
  },
  {
   "cell_type": "code",
   "execution_count": 60,
   "metadata": {
    "ExecuteTime": {
     "end_time": "2020-12-15T21:37:44.362478Z",
     "start_time": "2020-12-15T21:37:43.175917Z"
    }
   },
   "outputs": [],
   "source": [
    "sales = pd.read_csv(Path(DATA_PATH,\"sales_train.csv\"))\n",
    "items = pd.read_csv(Path(DATA_PATH,\"items.csv\"))\n",
    "categories = pd.read_csv(Path(DATA_PATH,\"item_categories.csv\"))\n",
    "shops = pd.read_csv(Path(DATA_PATH,\"shops.csv\"))\n",
    "test = pd.read_csv(Path(DATA_PATH,\"test.csv\"))\n",
    "test[\"date_block_num\"]=34"
   ]
  },
  {
   "cell_type": "markdown",
   "metadata": {},
   "source": [
    "## Aggregate"
   ]
  },
  {
   "cell_type": "code",
   "execution_count": 61,
   "metadata": {
    "ExecuteTime": {
     "end_time": "2020-12-15T21:38:03.532317Z",
     "start_time": "2020-12-15T21:37:44.364240Z"
    }
   },
   "outputs": [],
   "source": [
    "index_cols = ['shop_id', 'item_id', 'date_block_num']\n",
    "\n",
    "# For every month we create a grid from all shops/items combinations from that month\n",
    "grid = [] \n",
    "for block_num in sales['date_block_num'].unique():\n",
    "    cur_shops = sales[sales['date_block_num']==block_num]['shop_id'].unique()\n",
    "    cur_items = sales[sales['date_block_num']==block_num]['item_id'].unique()\n",
    "    grid.append(np.array(list(product(*[cur_shops, cur_items, [block_num]])),dtype='int32'))\n",
    "\n",
    "#turn the grid into pandas dataframe\n",
    "grid = pd.DataFrame(np.vstack(grid), columns = index_cols,dtype=np.int32)\n",
    "\n",
    "#get aggregated values for (shop_id, item_id, month)\n",
    "gb = sales.groupby(index_cols,as_index=False).agg({'item_cnt_day':'sum'})\n",
    "\n",
    "#fix column names\n",
    "gb.rename({\"item_cnt_day\":\"target\"}, inplace=True, axis=1)\n",
    "\n",
    "#join aggregated data to the grid\n",
    "train = pd.merge(grid, gb, how='left', on=index_cols).fillna(0)\n",
    "\n",
    "#sort the data\n",
    "train.sort_values(['date_block_num','shop_id','item_id'],inplace=True)\n"
   ]
  },
  {
   "cell_type": "markdown",
   "metadata": {},
   "source": [
    "## Join"
   ]
  },
  {
   "cell_type": "code",
   "execution_count": 62,
   "metadata": {
    "ExecuteTime": {
     "end_time": "2020-12-15T21:38:03.545472Z",
     "start_time": "2020-12-15T21:38:03.534077Z"
    }
   },
   "outputs": [],
   "source": [
    "def reduce_mem_usage(df, verbose=True):\n",
    "    numerics = ['int16', 'int32', 'int64', 'float16', 'float32', 'float64']\n",
    "    start_mem = df.memory_usage().sum() / 1024**2\n",
    "    for col in df.columns:\n",
    "        col_type = df[col].dtypes\n",
    "        if col_type in numerics:\n",
    "            c_min = df[col].min()\n",
    "            c_max = df[col].max()\n",
    "            if str(col_type)[:3] == 'int':\n",
    "                if c_min > np.iinfo(np.int8).min and c_max < np.iinfo(np.int8).max:\n",
    "                    df[col] = df[col].astype(np.int8)\n",
    "                elif c_min > np.iinfo(np.int16).min and c_max < np.iinfo(np.int16).max:\n",
    "                    df[col] = df[col].astype(np.int16)\n",
    "                elif c_min > np.iinfo(np.int32).min and c_max < np.iinfo(np.int32).max:\n",
    "                    df[col] = df[col].astype(np.int32)\n",
    "                elif c_min > np.iinfo(np.int64).min and c_max < np.iinfo(np.int64).max:\n",
    "                    df[col] = df[col].astype(np.int64)\n",
    "            else:\n",
    "                if c_min > np.finfo(np.float16).min and c_max < np.finfo(np.float16).max:\n",
    "                    df[col] = df[col].astype(np.float16)\n",
    "                elif c_min > np.finfo(np.float32).min and c_max < np.finfo(np.float32).max:\n",
    "                    df[col] = df[col].astype(np.float32)\n",
    "                else:\n",
    "                    df[col] = df[col].astype(np.float64)\n",
    "\n",
    "    end_mem = df.memory_usage().sum() / 1024**2\n",
    "    print('Memory usage after optimization is: {:.2f} MB'.format(end_mem))\n",
    "    print('Decreased by {:.1f}%'.format(100 * (start_mem - end_mem) / start_mem))\n",
    "\n",
    "    return df"
   ]
  },
  {
   "cell_type": "code",
   "execution_count": 63,
   "metadata": {
    "ExecuteTime": {
     "end_time": "2020-12-15T21:38:10.816597Z",
     "start_time": "2020-12-15T21:38:03.546693Z"
    },
    "scrolled": true
   },
   "outputs": [
    {
     "name": "stdout",
     "output_type": "stream",
     "text": [
      "Memory usage after optimization is: 156.12 MB\n",
      "Decreased by 58.3%\n"
     ]
    },
    {
     "data": {
      "text/html": [
       "<div>\n",
       "<style scoped>\n",
       "    .dataframe tbody tr th:only-of-type {\n",
       "        vertical-align: middle;\n",
       "    }\n",
       "\n",
       "    .dataframe tbody tr th {\n",
       "        vertical-align: top;\n",
       "    }\n",
       "\n",
       "    .dataframe thead th {\n",
       "        text-align: right;\n",
       "    }\n",
       "</style>\n",
       "<table border=\"1\" class=\"dataframe\">\n",
       "  <thead>\n",
       "    <tr style=\"text-align: right;\">\n",
       "      <th></th>\n",
       "      <th>shop_id</th>\n",
       "      <th>item_id</th>\n",
       "      <th>date_block_num</th>\n",
       "      <th>target</th>\n",
       "      <th>item_category_id</th>\n",
       "    </tr>\n",
       "  </thead>\n",
       "  <tbody>\n",
       "    <tr>\n",
       "      <th>0</th>\n",
       "      <td>0</td>\n",
       "      <td>19</td>\n",
       "      <td>0</td>\n",
       "      <td>0.0</td>\n",
       "      <td>40</td>\n",
       "    </tr>\n",
       "    <tr>\n",
       "      <th>243455</th>\n",
       "      <td>38</td>\n",
       "      <td>33</td>\n",
       "      <td>0</td>\n",
       "      <td>1.0</td>\n",
       "      <td>37</td>\n",
       "    </tr>\n",
       "    <tr>\n",
       "      <th>243454</th>\n",
       "      <td>38</td>\n",
       "      <td>32</td>\n",
       "      <td>0</td>\n",
       "      <td>4.0</td>\n",
       "      <td>40</td>\n",
       "    </tr>\n",
       "    <tr>\n",
       "      <th>243453</th>\n",
       "      <td>38</td>\n",
       "      <td>29</td>\n",
       "      <td>0</td>\n",
       "      <td>0.0</td>\n",
       "      <td>23</td>\n",
       "    </tr>\n",
       "    <tr>\n",
       "      <th>243452</th>\n",
       "      <td>38</td>\n",
       "      <td>28</td>\n",
       "      <td>0</td>\n",
       "      <td>0.0</td>\n",
       "      <td>30</td>\n",
       "    </tr>\n",
       "  </tbody>\n",
       "</table>\n",
       "</div>"
      ],
      "text/plain": [
       "        shop_id  item_id  date_block_num  target  item_category_id\n",
       "0             0       19               0     0.0                40\n",
       "243455       38       33               0     1.0                37\n",
       "243454       38       32               0     4.0                40\n",
       "243453       38       29               0     0.0                23\n",
       "243452       38       28               0     0.0                30"
      ]
     },
     "execution_count": 63,
     "metadata": {},
     "output_type": "execute_result"
    }
   ],
   "source": [
    "train = train.merge(items, on=\"item_id\", how=\"left\")\n",
    "train = train.merge(categories, on=\"item_category_id\", how=\"left\")\n",
    "train = train.merge(shops, on=\"shop_id\", how=\"left\")\n",
    "train.drop(columns=[\"item_name\", \"shop_name\", \"item_category_name\"], inplace=True)\n",
    "train = reduce_mem_usage(train)\n",
    "train.sort_values(\"date_block_num\", inplace=True)\n",
    "train.head() "
   ]
  },
  {
   "cell_type": "code",
   "execution_count": 64,
   "metadata": {
    "ExecuteTime": {
     "end_time": "2020-12-15T21:38:10.929415Z",
     "start_time": "2020-12-15T21:38:10.817956Z"
    },
    "scrolled": true
   },
   "outputs": [
    {
     "name": "stdout",
     "output_type": "stream",
     "text": [
      "Memory usage after optimization is: 3.47 MB\n",
      "Decreased by 64.6%\n"
     ]
    },
    {
     "data": {
      "text/html": [
       "<div>\n",
       "<style scoped>\n",
       "    .dataframe tbody tr th:only-of-type {\n",
       "        vertical-align: middle;\n",
       "    }\n",
       "\n",
       "    .dataframe tbody tr th {\n",
       "        vertical-align: top;\n",
       "    }\n",
       "\n",
       "    .dataframe thead th {\n",
       "        text-align: right;\n",
       "    }\n",
       "</style>\n",
       "<table border=\"1\" class=\"dataframe\">\n",
       "  <thead>\n",
       "    <tr style=\"text-align: right;\">\n",
       "      <th></th>\n",
       "      <th>ID</th>\n",
       "      <th>shop_id</th>\n",
       "      <th>item_id</th>\n",
       "      <th>date_block_num</th>\n",
       "      <th>item_category_id</th>\n",
       "    </tr>\n",
       "  </thead>\n",
       "  <tbody>\n",
       "    <tr>\n",
       "      <th>0</th>\n",
       "      <td>0</td>\n",
       "      <td>5</td>\n",
       "      <td>5037</td>\n",
       "      <td>34</td>\n",
       "      <td>19</td>\n",
       "    </tr>\n",
       "    <tr>\n",
       "      <th>1</th>\n",
       "      <td>1</td>\n",
       "      <td>5</td>\n",
       "      <td>5320</td>\n",
       "      <td>34</td>\n",
       "      <td>55</td>\n",
       "    </tr>\n",
       "    <tr>\n",
       "      <th>2</th>\n",
       "      <td>2</td>\n",
       "      <td>5</td>\n",
       "      <td>5233</td>\n",
       "      <td>34</td>\n",
       "      <td>19</td>\n",
       "    </tr>\n",
       "    <tr>\n",
       "      <th>3</th>\n",
       "      <td>3</td>\n",
       "      <td>5</td>\n",
       "      <td>5232</td>\n",
       "      <td>34</td>\n",
       "      <td>23</td>\n",
       "    </tr>\n",
       "    <tr>\n",
       "      <th>4</th>\n",
       "      <td>4</td>\n",
       "      <td>5</td>\n",
       "      <td>5268</td>\n",
       "      <td>34</td>\n",
       "      <td>20</td>\n",
       "    </tr>\n",
       "  </tbody>\n",
       "</table>\n",
       "</div>"
      ],
      "text/plain": [
       "   ID  shop_id  item_id  date_block_num  item_category_id\n",
       "0   0        5     5037              34                19\n",
       "1   1        5     5320              34                55\n",
       "2   2        5     5233              34                19\n",
       "3   3        5     5232              34                23\n",
       "4   4        5     5268              34                20"
      ]
     },
     "execution_count": 64,
     "metadata": {},
     "output_type": "execute_result"
    }
   ],
   "source": [
    "test = test.merge(items, on=\"item_id\", how=\"left\")\n",
    "test = test.merge(categories, on=\"item_category_id\", how=\"left\")\n",
    "test = test.merge(shops, on=\"shop_id\", how=\"left\")\n",
    "test.drop(columns=[\"item_name\", \"shop_name\", \"item_category_name\"], inplace=True)\n",
    "test = reduce_mem_usage(test)\n",
    "test.head()"
   ]
  },
  {
   "cell_type": "markdown",
   "metadata": {},
   "source": [
    "## Test / Validation Split"
   ]
  },
  {
   "cell_type": "code",
   "execution_count": 65,
   "metadata": {
    "scrolled": true
   },
   "outputs": [
    {
     "data": {
      "text/plain": [
       "period   date_block_num\n",
       "2013#1   0                 115690\n",
       "2013#10  9                  94202\n",
       "2013#11  10                 96736\n",
       "2013#12  11                143246\n",
       "2013#2   1                 108613\n",
       "2013#3   2                 121347\n",
       "2013#4   3                  94109\n",
       "2013#5   4                  91759\n",
       "2013#6   5                 100403\n",
       "2013#7   6                 100548\n",
       "2013#8   7                 104772\n",
       "2013#9   8                  96137\n",
       "2014#1   12                 99349\n",
       "2014#10  21                 79361\n",
       "2014#11  22                 86428\n",
       "2014#12  23                130786\n",
       "2014#2   13                 89830\n",
       "2014#3   14                 92733\n",
       "2014#4   15                 77906\n",
       "2014#5   16                 78529\n",
       "2014#6   17                 82408\n",
       "2014#7   18                 78760\n",
       "2014#8   19                 86614\n",
       "2014#9   20                 73157\n",
       "2015#1   24                 88522\n",
       "2015#10  33                 53514\n",
       "2015#2   25                 71808\n",
       "2015#3   26                 69977\n",
       "2015#4   27                 56274\n",
       "2015#5   28                 54548\n",
       "2015#6   29                 54617\n",
       "2015#7   30                 55549\n",
       "2015#8   31                 57029\n",
       "2015#9   32                 50588\n",
       "Name: item_id, dtype: int64"
      ]
     },
     "execution_count": 65,
     "metadata": {},
     "output_type": "execute_result"
    }
   ],
   "source": [
    "sales[\"date\"] = pd.to_datetime(sales[\"date\"], format=\"%d.%m.%Y\")\n",
    "sales[\"period\"] = sales.date.dt.year.astype(\"str\") + \"#\" + sales.date.dt.month.astype(\"str\")\n",
    "sales.groupby([\"period\", \"date_block_num\"])[\"item_id\"].count()"
   ]
  },
  {
   "cell_type": "code",
   "execution_count": 82,
   "metadata": {
    "ExecuteTime": {
     "end_time": "2020-12-16T03:12:00.655050Z",
     "start_time": "2020-12-16T03:11:59.714999Z"
    }
   },
   "outputs": [],
   "source": [
    "from sklearn.model_selection import TimeSeriesSplit\n",
    "\n",
    "def get_index(start, end, df, col):\n",
    "    ls = [x for x in range(start , end + 1)]\n",
    "    idx = df[df[col].isin(ls)].index.ravel()\n",
    "    return idx\n",
    "\n",
    "# 2013-jan >> 2013-oct\n",
    "train_1 = get_index(0, 9, train, \"date_block_num\")\n",
    "\n",
    "# 2013-nov\n",
    "val_1 = get_index(10, 10, train, \"date_block_num\")\n",
    "\n",
    "# 2014-jan >> 2014-oct\n",
    "train_2 = get_index(12, 21, train, \"date_block_num\")\n",
    "\n",
    "# 2014-nov\n",
    "val_2 = get_index(22, 22, train, \"date_block_num\")\n",
    "\n",
    "# 2015-jan >> 2015-sep\n",
    "train_3 = get_index(24, 32, train, \"date_block_num\")\n",
    "\n",
    "# 2015-oct\n",
    "val_3 = get_index(33, 33, train, \"date_block_num\")\n",
    "\n",
    "folds = [(train_1, val_1), (train_2, val_2), (train_3, val_3)]"
   ]
  },
  {
   "cell_type": "markdown",
   "metadata": {},
   "source": [
    "## Features / Target"
   ]
  },
  {
   "cell_type": "code",
   "execution_count": 83,
   "metadata": {
    "ExecuteTime": {
     "end_time": "2020-12-16T03:13:08.757014Z",
     "start_time": "2020-12-16T03:13:08.752394Z"
    }
   },
   "outputs": [
    {
     "name": "stdout",
     "output_type": "stream",
     "text": [
      "['shop_id', 'item_id', 'date_block_num', 'item_category_id']\n",
      "target\n"
     ]
    }
   ],
   "source": [
    "remove_cols = [\"target\", \"item_name\", \"item_category_name\", \"shop_name\"]\n",
    "features = [col for col in train.columns if col not in remove_cols]\n",
    "target=\"target\"\n",
    "print(features)\n",
    "print(target)"
   ]
  },
  {
   "cell_type": "markdown",
   "metadata": {},
   "source": [
    "## Model"
   ]
  },
  {
   "cell_type": "code",
   "execution_count": 84,
   "metadata": {
    "ExecuteTime": {
     "end_time": "2020-12-16T03:13:09.226394Z",
     "start_time": "2020-12-16T03:13:09.223157Z"
    }
   },
   "outputs": [
    {
     "name": "stdout",
     "output_type": "stream",
     "text": [
      "3.1.1\n"
     ]
    }
   ],
   "source": [
    "import lightgbm\n",
    "print(lightgbm.__version__)"
   ]
  },
  {
   "cell_type": "code",
   "execution_count": 85,
   "metadata": {
    "ExecuteTime": {
     "end_time": "2020-12-16T03:13:09.720140Z",
     "start_time": "2020-12-16T03:13:09.716439Z"
    }
   },
   "outputs": [],
   "source": [
    "from sklearn.metrics import mean_squared_error, make_scorer\n",
    "\n",
    "def cliped_rmse(y, p):\n",
    "    return -mean_squared_error(y, np.clip(p, 0, 100), squared=False)\n",
    "\n",
    "cliped_rmse_scorer = make_scorer(cliped_rmse)"
   ]
  },
  {
   "cell_type": "code",
   "execution_count": 78,
   "metadata": {
    "ExecuteTime": {
     "end_time": "2020-12-16T02:36:28.692169Z",
     "start_time": "2020-12-16T02:30:04.681960Z"
    }
   },
   "outputs": [
    {
     "data": {
      "text/plain": [
       "3.6663028931564328"
      ]
     },
     "execution_count": 78,
     "metadata": {},
     "output_type": "execute_result"
    }
   ],
   "source": [
    "from lightgbm import LGBMRegressor\n",
    "from sklearn.model_selection import cross_val_score\n",
    "\n",
    "model = LGBMRegressor(learning_rate=0.01,\n",
    "                      n_estimators=1000,\n",
    "                      max_depth=10,\n",
    "                      num_leaves=512,\n",
    "                      subsample=0.8,\n",
    "                      colsample_bytree=0.8,\n",
    "                      random_state=seed)\n",
    "\n",
    "-cross_val_score(estimator=model,\n",
    "                 X=train[features],\n",
    "                 y=train[target],\n",
    "                 scoring=\"neg_root_mean_squared_error\",\n",
    "                 cv=folds).mean()"
   ]
  },
  {
   "cell_type": "code",
   "execution_count": 86,
   "metadata": {
    "ExecuteTime": {
     "end_time": "2020-12-16T03:17:04.679375Z",
     "start_time": "2020-12-16T03:13:29.798009Z"
    }
   },
   "outputs": [
    {
     "data": {
      "text/plain": [
       "3.553106149037679"
      ]
     },
     "execution_count": 86,
     "metadata": {},
     "output_type": "execute_result"
    }
   ],
   "source": [
    "from xgboost import XGBRegressor\n",
    "from sklearn.model_selection import cross_val_score\n",
    "\n",
    "model = XGBRegressor(random_state=seed)\n",
    "\n",
    "-cross_val_score(estimator=model,\n",
    "                 X=train[features],\n",
    "                 y=train[target],\n",
    "                 scoring=\"neg_root_mean_squared_error\",\n",
    "                 cv=folds).mean()"
   ]
  },
  {
   "cell_type": "code",
   "execution_count": 87,
   "metadata": {
    "ExecuteTime": {
     "end_time": "2020-12-16T03:46:06.667951Z",
     "start_time": "2020-12-16T03:41:20.737043Z"
    }
   },
   "outputs": [
    {
     "name": "stdout",
     "output_type": "stream",
     "text": [
      "[00:41:24] WARNING: /Users/travis/build/dmlc/xgboost/src/gbm/gbtree.cc:139: Tree method is automatically selected to be 'approx' for faster speed. To use old behavior (exact greedy algorithm on single machine), set tree_method to 'exact'.\n"
     ]
    },
    {
     "data": {
      "text/plain": [
       "XGBRegressor(base_score=0.5, booster='gbtree', colsample_bylevel=1,\n",
       "             colsample_bynode=1, colsample_bytree=1, gamma=0, gpu_id=-1,\n",
       "             importance_type='gain', interaction_constraints='',\n",
       "             learning_rate=0.300000012, max_delta_step=0, max_depth=6,\n",
       "             min_child_weight=1, missing=nan, monotone_constraints='()',\n",
       "             n_estimators=100, n_jobs=0, num_parallel_tree=1, random_state=42,\n",
       "             reg_alpha=0, reg_lambda=1, scale_pos_weight=1, subsample=1,\n",
       "             tree_method='approx', validate_parameters=1, verbosity=None)"
      ]
     },
     "execution_count": 87,
     "metadata": {},
     "output_type": "execute_result"
    }
   ],
   "source": [
    "model.fit(X=train[features],\n",
    "          y=train[target],)"
   ]
  },
  {
   "cell_type": "code",
   "execution_count": 91,
   "metadata": {
    "ExecuteTime": {
     "end_time": "2020-12-16T03:47:50.700511Z",
     "start_time": "2020-12-16T03:47:50.694614Z"
    }
   },
   "outputs": [],
   "source": [
    "from joblib import dump, load\n",
    "\n",
    "model_name = \"XGBoost_Baseline\"\n",
    "\n",
    "if model is not None:\n",
    "    dump(model, Path(MODEL_PATH, model_name + \".joblib\"))\n",
    "else:\n",
    "    model = load(Path(MODEL_PATH, model_name + \".joblib\"))\n",
    "    "
   ]
  },
  {
   "cell_type": "markdown",
   "metadata": {},
   "source": [
    "## Predictions"
   ]
  },
  {
   "cell_type": "code",
   "execution_count": 92,
   "metadata": {
    "ExecuteTime": {
     "end_time": "2020-12-16T03:47:53.425324Z",
     "start_time": "2020-12-16T03:47:53.333032Z"
    }
   },
   "outputs": [],
   "source": [
    "pred = model.predict(test[features])\n",
    "pred = np.clip(pred, 0, 20)"
   ]
  },
  {
   "cell_type": "markdown",
   "metadata": {},
   "source": [
    "## Submission"
   ]
  },
  {
   "cell_type": "code",
   "execution_count": 94,
   "metadata": {
    "ExecuteTime": {
     "end_time": "2020-12-16T03:49:47.664071Z",
     "start_time": "2020-12-16T03:49:42.599445Z"
    }
   },
   "outputs": [
    {
     "name": "stdout",
     "output_type": "stream",
     "text": [
      "Warning: Your Kaggle API key is readable by other users on this system! To fix this, you can run 'chmod 600 /Users/rco/.kaggle/kaggle.json'\n",
      "100%|██████████████████████████████████████| 3.32M/3.32M [00:03<00:00, 1.05MB/s]\n",
      "Successfully submitted to Predict Future Sales"
     ]
    }
   ],
   "source": [
    "submission = pd.DataFrame({\"ID\":range(pred.shape[0]),\n",
    "                           \"item_cnt_month\":pred})\n",
    "\n",
    "sub_file_name = \"submission_\" + model_name + \".csv\"\n",
    "sub_file_path = Path(MODEL_PATH, sub_file_name)\n",
    "\n",
    "submission[[\"ID\", \"item_cnt_month\"]].to_csv(sub_file_path, index=False)\n",
    "\n",
    "!kaggle competitions submit -c competitive-data-science-predict-future-sales -f $sub_file_path -m $model_name"
   ]
  },
  {
   "cell_type": "code",
   "execution_count": null,
   "metadata": {},
   "outputs": [],
   "source": []
  }
 ],
 "metadata": {
  "kernelspec": {
   "display_name": "Python 3",
   "language": "python",
   "name": "python3"
  },
  "language_info": {
   "codemirror_mode": {
    "name": "ipython",
    "version": 3
   },
   "file_extension": ".py",
   "mimetype": "text/x-python",
   "name": "python",
   "nbconvert_exporter": "python",
   "pygments_lexer": "ipython3",
   "version": "3.8.5"
  },
  "toc": {
   "base_numbering": 1,
   "nav_menu": {},
   "number_sections": true,
   "sideBar": true,
   "skip_h1_title": false,
   "title_cell": "Table of Contents",
   "title_sidebar": "Contents",
   "toc_cell": false,
   "toc_position": {},
   "toc_section_display": true,
   "toc_window_display": false
  }
 },
 "nbformat": 4,
 "nbformat_minor": 4
}
