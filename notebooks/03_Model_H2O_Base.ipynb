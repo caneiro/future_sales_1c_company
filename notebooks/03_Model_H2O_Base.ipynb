{
 "cells": [
  {
   "cell_type": "markdown",
   "metadata": {
    "ExecuteTime": {
     "end_time": "2020-08-05T00:21:42.525077Z",
     "start_time": "2020-08-05T00:21:42.521233Z"
    }
   },
   "source": [
    "# Predict Future Sale - Baseline\n",
    "## Final project for \"How to win a data science competition\" Coursera course\n",
    "https://www.kaggle.com/c/competitive-data-science-predict-future-sales/data  \n",
    ">Student: Rafael Caneiro de Oliveira  \n",
    ">Email: rafael.caneiro@gmail.com  \n",
    ">Date: 04/08/2020"
   ]
  },
  {
   "cell_type": "markdown",
   "metadata": {},
   "source": [
    "## Load the data"
   ]
  },
  {
   "cell_type": "code",
   "execution_count": 1,
   "metadata": {
    "ExecuteTime": {
     "end_time": "2020-08-29T19:52:34.981764Z",
     "start_time": "2020-08-29T19:52:34.336497Z"
    }
   },
   "outputs": [],
   "source": [
    "import numpy as np\n",
    "import pandas as pd\n",
    "\n",
    "from pathlib import Path\n",
    "\n",
    "PATH = Path.cwd().parent\n",
    "DATA_PATH = Path(PATH, \"./data/raw/\") "
   ]
  },
  {
   "cell_type": "code",
   "execution_count": 2,
   "metadata": {
    "ExecuteTime": {
     "end_time": "2020-08-29T19:52:36.443093Z",
     "start_time": "2020-08-29T19:52:34.984097Z"
    },
    "scrolled": true
   },
   "outputs": [],
   "source": [
    "# Load the data\n",
    "train_df = pd.read_csv(Path(DATA_PATH,\"sales_train.csv\"))\n",
    "test_df = pd.read_csv(Path(DATA_PATH,\"test.csv\"))\n",
    "items_df = pd.read_csv(Path(DATA_PATH,\"items.csv\"))\n",
    "\n",
    "# # Merge item category data for train\n",
    "# train_df = pd.merge(train_df,\n",
    "#                     items_df[[\"item_id\", \"item_category_id\"]],\n",
    "#                     how=\"inner\",\n",
    "#                     on=\"item_id\")\n",
    "\n",
    "# # Merge item category data for test\n",
    "# test_df = pd.merge(test_df,\n",
    "#                    items_df[[\"item_id\", \"item_category_id\"]],\n",
    "#                    how=\"inner\",\n",
    "#                    on=\"item_id\")\n",
    "\n",
    "# Dates engineering on train data\n",
    "train_df[\"date\"] = pd.to_datetime(train_df[\"date\"], format=\"%d.%m.%Y\")\n",
    "train_df[\"quarter\"] = train_df.date.dt.quarter\n",
    "train_df[\"year\"] = train_df.date.dt.year\n",
    "train_df[\"month\"] = train_df.date.dt.month\n",
    "\n",
    "# Dates engineering on test data\n",
    "test_df[\"date_block_num\"] = 34\n",
    "test_df[\"quarter\"] = 3\n",
    "test_df[\"year\"] = 2015\n",
    "test_df[\"month\"] = 11\n"
   ]
  },
  {
   "cell_type": "markdown",
   "metadata": {},
   "source": [
    "## Outliers\n",
    "https://towardsdatascience.com/ways-to-detect-and-remove-the-outliers-404d16608dba"
   ]
  },
  {
   "cell_type": "code",
   "execution_count": 3,
   "metadata": {
    "ExecuteTime": {
     "end_time": "2020-08-29T19:52:36.691830Z",
     "start_time": "2020-08-29T19:52:36.445114Z"
    },
    "scrolled": true
   },
   "outputs": [],
   "source": [
    "cols = [\"item_price\", \"item_cnt_day\"]\n",
    "for col in cols:\n",
    "    upperbound = np.percentile(train_df[col], 99)\n",
    "    train_df.loc[train_df[col] > upperbound, \"is_outlier\"] = 1\n",
    "    \n",
    "train_df.is_outlier.fillna(0, inplace=True)"
   ]
  },
  {
   "cell_type": "markdown",
   "metadata": {},
   "source": [
    "## Train / Validation Datasets"
   ]
  },
  {
   "cell_type": "code",
   "execution_count": 5,
   "metadata": {
    "ExecuteTime": {
     "end_time": "2020-08-29T19:52:50.306692Z",
     "start_time": "2020-08-29T19:52:49.931347Z"
    },
    "scrolled": true
   },
   "outputs": [
    {
     "name": "stdout",
     "output_type": "stream",
     "text": [
      "Checking whether there is an H2O instance running at http://localhost:54321 . connected.\n"
     ]
    },
    {
     "data": {
      "text/html": [
       "<div style=\"overflow:auto\"><table style=\"width:50%\"><tr><td>H2O_cluster_uptime:</td>\n",
       "<td>35 secs</td></tr>\n",
       "<tr><td>H2O_cluster_timezone:</td>\n",
       "<td>America/Sao_Paulo</td></tr>\n",
       "<tr><td>H2O_data_parsing_timezone:</td>\n",
       "<td>UTC</td></tr>\n",
       "<tr><td>H2O_cluster_version:</td>\n",
       "<td>3.30.1.1</td></tr>\n",
       "<tr><td>H2O_cluster_version_age:</td>\n",
       "<td>19 days </td></tr>\n",
       "<tr><td>H2O_cluster_name:</td>\n",
       "<td>rco</td></tr>\n",
       "<tr><td>H2O_cluster_total_nodes:</td>\n",
       "<td>1</td></tr>\n",
       "<tr><td>H2O_cluster_free_memory:</td>\n",
       "<td>7.103 Gb</td></tr>\n",
       "<tr><td>H2O_cluster_total_cores:</td>\n",
       "<td>16</td></tr>\n",
       "<tr><td>H2O_cluster_allowed_cores:</td>\n",
       "<td>16</td></tr>\n",
       "<tr><td>H2O_cluster_status:</td>\n",
       "<td>accepting new members, healthy</td></tr>\n",
       "<tr><td>H2O_connection_url:</td>\n",
       "<td>http://localhost:54321</td></tr>\n",
       "<tr><td>H2O_connection_proxy:</td>\n",
       "<td>{\"http\": null, \"https\": null}</td></tr>\n",
       "<tr><td>H2O_internal_security:</td>\n",
       "<td>False</td></tr>\n",
       "<tr><td>H2O_API_Extensions:</td>\n",
       "<td>Amazon S3, XGBoost, Algos, AutoML, Core V3, TargetEncoder, Core V4</td></tr>\n",
       "<tr><td>Python_version:</td>\n",
       "<td>3.8.3 final</td></tr></table></div>"
      ],
      "text/plain": [
       "--------------------------  ------------------------------------------------------------------\n",
       "H2O_cluster_uptime:         35 secs\n",
       "H2O_cluster_timezone:       America/Sao_Paulo\n",
       "H2O_data_parsing_timezone:  UTC\n",
       "H2O_cluster_version:        3.30.1.1\n",
       "H2O_cluster_version_age:    19 days\n",
       "H2O_cluster_name:           rco\n",
       "H2O_cluster_total_nodes:    1\n",
       "H2O_cluster_free_memory:    7.103 Gb\n",
       "H2O_cluster_total_cores:    16\n",
       "H2O_cluster_allowed_cores:  16\n",
       "H2O_cluster_status:         accepting new members, healthy\n",
       "H2O_connection_url:         http://localhost:54321\n",
       "H2O_connection_proxy:       {\"http\": null, \"https\": null}\n",
       "H2O_internal_security:      False\n",
       "H2O_API_Extensions:         Amazon S3, XGBoost, Algos, AutoML, Core V3, TargetEncoder, Core V4\n",
       "Python_version:             3.8.3 final\n",
       "--------------------------  ------------------------------------------------------------------"
      ]
     },
     "metadata": {},
     "output_type": "display_data"
    }
   ],
   "source": [
    "import h2o\n",
    "h2o.init()\n",
    "# h2o.shutdown()"
   ]
  },
  {
   "cell_type": "code",
   "execution_count": 36,
   "metadata": {
    "ExecuteTime": {
     "end_time": "2020-08-29T20:43:44.716173Z",
     "start_time": "2020-08-29T20:43:37.438618Z"
    },
    "scrolled": true
   },
   "outputs": [
    {
     "name": "stdout",
     "output_type": "stream",
     "text": [
      "Parse progress: |█████████████████████████████████████████████████████████| 100%\n",
      "Parse progress: |█████████████████████████████████████████████████████████| 100%\n"
     ]
    }
   ],
   "source": [
    "def create_grouped(df, returned=False):\n",
    "    if returned:\n",
    "        df_grouped = df \\\n",
    "            .groupby([\"year\", \"month\", \"shop_id\", \n",
    "                      \"item_id\", \"date_block_num\"]) \\\n",
    "            .agg({\"item_cnt_day\":\"sum\"}) \\\n",
    "            .reset_index()        \n",
    "    else:\n",
    "        df_grouped = df[(df.item_cnt_day>=0)] \\\n",
    "            .groupby([\"year\", \"month\", \"shop_id\", \n",
    "                      \"item_id\", \"date_block_num\"]) \\\n",
    "            .agg({\"item_cnt_day\":\"sum\"}) \\\n",
    "            .reset_index()\n",
    "    return df_grouped\n",
    "\n",
    "train_grouped = h2o.H2OFrame(create_grouped(train_df[train_df.month.between(1,9)]))\n",
    "\n",
    "train_grouped[\"fold\"] = train_grouped[\"year\"] - 2013\n",
    "\n",
    "# valid_grouped = create_grouped(train_df[train_df.month==10])\n",
    "test_grouped = h2o.H2OFrame(create_grouped(train_df[train_df.month==10]))"
   ]
  },
  {
   "cell_type": "code",
   "execution_count": 35,
   "metadata": {
    "ExecuteTime": {
     "end_time": "2020-08-29T20:43:24.787871Z",
     "start_time": "2020-08-29T20:43:24.671862Z"
    }
   },
   "outputs": [
    {
     "data": {
      "text/html": [
       "<div>\n",
       "<style scoped>\n",
       "    .dataframe tbody tr th:only-of-type {\n",
       "        vertical-align: middle;\n",
       "    }\n",
       "\n",
       "    .dataframe tbody tr th {\n",
       "        vertical-align: top;\n",
       "    }\n",
       "\n",
       "    .dataframe thead th {\n",
       "        text-align: right;\n",
       "    }\n",
       "</style>\n",
       "<table border=\"1\" class=\"dataframe\">\n",
       "  <thead>\n",
       "    <tr style=\"text-align: right;\">\n",
       "      <th></th>\n",
       "      <th></th>\n",
       "      <th>shop_id</th>\n",
       "      <th>item_id</th>\n",
       "      <th>date_block_num</th>\n",
       "      <th>item_cnt_day</th>\n",
       "    </tr>\n",
       "    <tr>\n",
       "      <th>year</th>\n",
       "      <th>month</th>\n",
       "      <th></th>\n",
       "      <th></th>\n",
       "      <th></th>\n",
       "      <th></th>\n",
       "    </tr>\n",
       "  </thead>\n",
       "  <tbody>\n",
       "    <tr>\n",
       "      <th>2013</th>\n",
       "      <th>10</th>\n",
       "      <td>51057</td>\n",
       "      <td>51057</td>\n",
       "      <td>51057</td>\n",
       "      <td>51057</td>\n",
       "    </tr>\n",
       "    <tr>\n",
       "      <th>2014</th>\n",
       "      <th>10</th>\n",
       "      <td>42581</td>\n",
       "      <td>42581</td>\n",
       "      <td>42581</td>\n",
       "      <td>42581</td>\n",
       "    </tr>\n",
       "    <tr>\n",
       "      <th>2015</th>\n",
       "      <th>10</th>\n",
       "      <td>31521</td>\n",
       "      <td>31521</td>\n",
       "      <td>31521</td>\n",
       "      <td>31521</td>\n",
       "    </tr>\n",
       "  </tbody>\n",
       "</table>\n",
       "</div>"
      ],
      "text/plain": [
       "            shop_id  item_id  date_block_num  item_cnt_day\n",
       "year month                                                \n",
       "2013 10       51057    51057           51057         51057\n",
       "2014 10       42581    42581           42581         42581\n",
       "2015 10       31521    31521           31521         31521"
      ]
     },
     "execution_count": 35,
     "metadata": {},
     "output_type": "execute_result"
    }
   ],
   "source": [
    "# create_grouped(train_df[train_df.month.between(1,9)]).groupby([\"year\", \"month\"]).count()"
   ]
  },
  {
   "cell_type": "markdown",
   "metadata": {},
   "source": [
    "## Model"
   ]
  },
  {
   "cell_type": "code",
   "execution_count": 37,
   "metadata": {
    "ExecuteTime": {
     "end_time": "2020-08-29T20:43:44.724752Z",
     "start_time": "2020-08-29T20:43:44.717907Z"
    }
   },
   "outputs": [],
   "source": [
    "from h2o.automl import H2OAutoML\n",
    "\n",
    "# Define label and predictors\n",
    "y = \"item_cnt_day\"\n",
    "x = [\"shop_id\", \"item_id\", \"date_block_num\", \"year\", \"month\"]\n",
    "\n",
    "aml = H2OAutoML(seed=42, max_runtime_secs=300, nfolds=5)"
   ]
  },
  {
   "cell_type": "code",
   "execution_count": null,
   "metadata": {
    "ExecuteTime": {
     "start_time": "2020-08-29T20:43:45.830Z"
    }
   },
   "outputs": [
    {
     "name": "stdout",
     "output_type": "stream",
     "text": [
      "AutoML progress: |\n",
      "17:43:45.928: Fold column fold will be used for cross-validation. nfolds parameter will be ignored.\n",
      "\n",
      "██████████████████████"
     ]
    }
   ],
   "source": [
    "aml.train(x=x, y=y,\n",
    "          training_frame=train_grouped,\n",
    "          fold_column=\"fold\",\n",
    "          leaderboard_frame=test_grouped)\n",
    "\n",
    "aml.leaderboard.head()\n",
    "#  8.97 >> train jan-set / leaderboard out / fold_column = year\n",
    "# 13.62 >> train full -> leaderboard out/15\n",
    "# 12.78 >> train jan-set / leaderboard out/15 / auto fold\n",
    "#  >> train jan-set / leaderboard out/15 / fold_column = year"
   ]
  },
  {
   "cell_type": "markdown",
   "metadata": {},
   "source": [
    "## Submission"
   ]
  },
  {
   "cell_type": "code",
   "execution_count": 23,
   "metadata": {
    "ExecuteTime": {
     "end_time": "2020-08-29T17:23:06.903137Z",
     "start_time": "2020-08-29T17:23:06.626709Z"
    }
   },
   "outputs": [],
   "source": [
    "submission[[\"ID\", \"item_cnt_month\"]].to_csv(\"submission.csv\",\n",
    "                                          index=False)"
   ]
  },
  {
   "cell_type": "code",
   "execution_count": 24,
   "metadata": {
    "ExecuteTime": {
     "end_time": "2020-08-29T17:23:13.077150Z",
     "start_time": "2020-08-29T17:23:08.075928Z"
    }
   },
   "outputs": [
    {
     "name": "stdout",
     "output_type": "stream",
     "text": [
      "100%|███████████████████████████████████████| 2.14M/2.14M [00:03<00:00, 678kB/s]\n",
      "Successfully submitted to Predict Future Sales"
     ]
    }
   ],
   "source": [
    "!kaggle competitions submit -c competitive-data-science-predict-future-sales -f submission.csv -m \"Baseline3\""
   ]
  },
  {
   "cell_type": "code",
   "execution_count": null,
   "metadata": {},
   "outputs": [],
   "source": []
  }
 ],
 "metadata": {
  "kernelspec": {
   "display_name": "hse_comp_ds",
   "language": "python",
   "name": "hse_comp_ds"
  },
  "language_info": {
   "codemirror_mode": {
    "name": "ipython",
    "version": 3
   },
   "file_extension": ".py",
   "mimetype": "text/x-python",
   "name": "python",
   "nbconvert_exporter": "python",
   "pygments_lexer": "ipython3",
   "version": "3.8.3"
  }
 },
 "nbformat": 4,
 "nbformat_minor": 4
}
