{
 "cells": [
  {
   "cell_type": "markdown",
   "metadata": {
    "ExecuteTime": {
     "end_time": "2020-08-05T00:21:42.525077Z",
     "start_time": "2020-08-05T00:21:42.521233Z"
    }
   },
   "source": [
    "# Predict Future Sale - Baseline\n",
    "## Final project for \"How to win a data science competition\" Coursera course\n",
    "https://www.kaggle.com/c/competitive-data-science-predict-future-sales/data  \n",
    ">Student: Rafael Caneiro de Oliveira  \n",
    ">Email: rafael.caneiro@gmail.com  \n",
    ">Date: 04/08/2020"
   ]
  },
  {
   "cell_type": "markdown",
   "metadata": {},
   "source": [
    "## Load the data"
   ]
  },
  {
   "cell_type": "code",
   "execution_count": 1,
   "metadata": {
    "ExecuteTime": {
     "end_time": "2020-08-29T19:52:34.981764Z",
     "start_time": "2020-08-29T19:52:34.336497Z"
    }
   },
   "outputs": [],
   "source": [
    "import numpy as np\n",
    "import pandas as pd\n",
    "\n",
    "from pathlib import Path\n",
    "\n",
    "PATH = Path.cwd().parent\n",
    "DATA_PATH = Path(PATH, \"./data/raw/\") "
   ]
  },
  {
   "cell_type": "code",
   "execution_count": 2,
   "metadata": {
    "ExecuteTime": {
     "end_time": "2020-08-29T19:52:36.443093Z",
     "start_time": "2020-08-29T19:52:34.984097Z"
    },
    "scrolled": true
   },
   "outputs": [],
   "source": [
    "# Load the data\n",
    "train_df = pd.read_csv(Path(DATA_PATH,\"sales_train.csv\"))\n",
    "test_df = pd.read_csv(Path(DATA_PATH,\"test.csv\"))\n",
    "items_df = pd.read_csv(Path(DATA_PATH,\"items.csv\"))\n",
    "\n",
    "# # Merge item category data for train\n",
    "# train_df = pd.merge(train_df,\n",
    "#                     items_df[[\"item_id\", \"item_category_id\"]],\n",
    "#                     how=\"inner\",\n",
    "#                     on=\"item_id\")\n",
    "\n",
    "# # Merge item category data for test\n",
    "# test_df = pd.merge(test_df,\n",
    "#                    items_df[[\"item_id\", \"item_category_id\"]],\n",
    "#                    how=\"inner\",\n",
    "#                    on=\"item_id\")\n",
    "\n",
    "# Dates engineering on train data\n",
    "train_df[\"date\"] = pd.to_datetime(train_df[\"date\"], format=\"%d.%m.%Y\")\n",
    "train_df[\"quarter\"] = train_df.date.dt.quarter\n",
    "train_df[\"year\"] = train_df.date.dt.year\n",
    "train_df[\"month\"] = train_df.date.dt.month\n",
    "\n",
    "# Dates engineering on test data\n",
    "test_df[\"date_block_num\"] = 34\n",
    "test_df[\"quarter\"] = 3\n",
    "test_df[\"year\"] = 2015\n",
    "test_df[\"month\"] = 11\n"
   ]
  },
  {
   "cell_type": "markdown",
   "metadata": {},
   "source": [
    "## Outliers\n",
    "https://towardsdatascience.com/ways-to-detect-and-remove-the-outliers-404d16608dba"
   ]
  },
  {
   "cell_type": "code",
   "execution_count": 3,
   "metadata": {
    "ExecuteTime": {
     "end_time": "2020-08-29T19:52:36.691830Z",
     "start_time": "2020-08-29T19:52:36.445114Z"
    },
    "scrolled": true
   },
   "outputs": [],
   "source": [
    "cols = [\"item_price\", \"item_cnt_day\"]\n",
    "for col in cols:\n",
    "    upperbound = np.percentile(train_df[col], 99)\n",
    "    train_df.loc[train_df[col] > upperbound, \"is_outlier\"] = 1\n",
    "    \n",
    "train_df.is_outlier.fillna(0, inplace=True)"
   ]
  },
  {
   "cell_type": "markdown",
   "metadata": {},
   "source": [
    "## Train / Validation Datasets"
   ]
  },
  {
   "cell_type": "code",
   "execution_count": 5,
   "metadata": {
    "ExecuteTime": {
     "end_time": "2020-08-29T19:52:50.306692Z",
     "start_time": "2020-08-29T19:52:49.931347Z"
    },
    "scrolled": true
   },
   "outputs": [
    {
     "name": "stdout",
     "output_type": "stream",
     "text": [
      "Checking whether there is an H2O instance running at http://localhost:54321 . connected.\n"
     ]
    },
    {
     "data": {
      "text/html": [
       "<div style=\"overflow:auto\"><table style=\"width:50%\"><tr><td>H2O_cluster_uptime:</td>\n",
       "<td>35 secs</td></tr>\n",
       "<tr><td>H2O_cluster_timezone:</td>\n",
       "<td>America/Sao_Paulo</td></tr>\n",
       "<tr><td>H2O_data_parsing_timezone:</td>\n",
       "<td>UTC</td></tr>\n",
       "<tr><td>H2O_cluster_version:</td>\n",
       "<td>3.30.1.1</td></tr>\n",
       "<tr><td>H2O_cluster_version_age:</td>\n",
       "<td>19 days </td></tr>\n",
       "<tr><td>H2O_cluster_name:</td>\n",
       "<td>rco</td></tr>\n",
       "<tr><td>H2O_cluster_total_nodes:</td>\n",
       "<td>1</td></tr>\n",
       "<tr><td>H2O_cluster_free_memory:</td>\n",
       "<td>7.103 Gb</td></tr>\n",
       "<tr><td>H2O_cluster_total_cores:</td>\n",
       "<td>16</td></tr>\n",
       "<tr><td>H2O_cluster_allowed_cores:</td>\n",
       "<td>16</td></tr>\n",
       "<tr><td>H2O_cluster_status:</td>\n",
       "<td>accepting new members, healthy</td></tr>\n",
       "<tr><td>H2O_connection_url:</td>\n",
       "<td>http://localhost:54321</td></tr>\n",
       "<tr><td>H2O_connection_proxy:</td>\n",
       "<td>{\"http\": null, \"https\": null}</td></tr>\n",
       "<tr><td>H2O_internal_security:</td>\n",
       "<td>False</td></tr>\n",
       "<tr><td>H2O_API_Extensions:</td>\n",
       "<td>Amazon S3, XGBoost, Algos, AutoML, Core V3, TargetEncoder, Core V4</td></tr>\n",
       "<tr><td>Python_version:</td>\n",
       "<td>3.8.3 final</td></tr></table></div>"
      ],
      "text/plain": [
       "--------------------------  ------------------------------------------------------------------\n",
       "H2O_cluster_uptime:         35 secs\n",
       "H2O_cluster_timezone:       America/Sao_Paulo\n",
       "H2O_data_parsing_timezone:  UTC\n",
       "H2O_cluster_version:        3.30.1.1\n",
       "H2O_cluster_version_age:    19 days\n",
       "H2O_cluster_name:           rco\n",
       "H2O_cluster_total_nodes:    1\n",
       "H2O_cluster_free_memory:    7.103 Gb\n",
       "H2O_cluster_total_cores:    16\n",
       "H2O_cluster_allowed_cores:  16\n",
       "H2O_cluster_status:         accepting new members, healthy\n",
       "H2O_connection_url:         http://localhost:54321\n",
       "H2O_connection_proxy:       {\"http\": null, \"https\": null}\n",
       "H2O_internal_security:      False\n",
       "H2O_API_Extensions:         Amazon S3, XGBoost, Algos, AutoML, Core V3, TargetEncoder, Core V4\n",
       "Python_version:             3.8.3 final\n",
       "--------------------------  ------------------------------------------------------------------"
      ]
     },
     "metadata": {},
     "output_type": "display_data"
    }
   ],
   "source": [
    "import h2o\n",
    "h2o.init()\n",
    "# h2o.shutdown()"
   ]
  },
  {
   "cell_type": "code",
   "execution_count": 36,
   "metadata": {
    "ExecuteTime": {
     "end_time": "2020-08-29T20:43:44.716173Z",
     "start_time": "2020-08-29T20:43:37.438618Z"
    },
    "scrolled": true
   },
   "outputs": [
    {
     "name": "stdout",
     "output_type": "stream",
     "text": [
      "Parse progress: |█████████████████████████████████████████████████████████| 100%\n",
      "Parse progress: |█████████████████████████████████████████████████████████| 100%\n"
     ]
    }
   ],
   "source": [
    "def create_grouped(df, returned=False):\n",
    "    if returned:\n",
    "        df_grouped = df \\\n",
    "            .groupby([\"year\", \"month\", \"shop_id\", \n",
    "                      \"item_id\", \"date_block_num\"]) \\\n",
    "            .agg({\"item_cnt_day\":\"sum\"}) \\\n",
    "            .reset_index()        \n",
    "    else:\n",
    "        df_grouped = df[(df.item_cnt_day>=0)] \\\n",
    "            .groupby([\"year\", \"month\", \"shop_id\", \n",
    "                      \"item_id\", \"date_block_num\"]) \\\n",
    "            .agg({\"item_cnt_day\":\"sum\"}) \\\n",
    "            .reset_index()\n",
    "    return df_grouped\n",
    "\n",
    "train_grouped = h2o.H2OFrame(create_grouped(train_df[train_df.month.between(1,9)]))\n",
    "\n",
    "train_grouped[\"fold\"] = train_grouped[\"year\"] - 2013\n",
    "\n",
    "# valid_grouped = create_grouped(train_df[train_df.month==10])\n",
    "test_grouped = h2o.H2OFrame(create_grouped(train_df[train_df.month==10]))"
   ]
  },
  {
   "cell_type": "code",
   "execution_count": 44,
   "metadata": {
    "ExecuteTime": {
     "end_time": "2020-08-29T20:53:02.709999Z",
     "start_time": "2020-08-29T20:53:02.647538Z"
    },
    "scrolled": true
   },
   "outputs": [
    {
     "data": {
      "text/html": [
       "<table>\n",
       "<thead>\n",
       "<tr><th style=\"text-align: right;\">  year</th><th style=\"text-align: right;\">  month</th><th style=\"text-align: right;\">  nrow</th></tr>\n",
       "</thead>\n",
       "<tbody>\n",
       "<tr><td style=\"text-align: right;\">  2013</td><td style=\"text-align: right;\">      1</td><td style=\"text-align: right;\"> 63170</td></tr>\n",
       "<tr><td style=\"text-align: right;\">  2013</td><td style=\"text-align: right;\">      2</td><td style=\"text-align: right;\"> 59911</td></tr>\n",
       "<tr><td style=\"text-align: right;\">  2013</td><td style=\"text-align: right;\">      3</td><td style=\"text-align: right;\"> 63951</td></tr>\n",
       "<tr><td style=\"text-align: right;\">  2013</td><td style=\"text-align: right;\">      4</td><td style=\"text-align: right;\"> 54590</td></tr>\n",
       "<tr><td style=\"text-align: right;\">  2013</td><td style=\"text-align: right;\">      5</td><td style=\"text-align: right;\"> 53276</td></tr>\n",
       "<tr><td style=\"text-align: right;\">  2013</td><td style=\"text-align: right;\">      6</td><td style=\"text-align: right;\"> 56173</td></tr>\n",
       "<tr><td style=\"text-align: right;\">  2013</td><td style=\"text-align: right;\">      7</td><td style=\"text-align: right;\"> 58004</td></tr>\n",
       "<tr><td style=\"text-align: right;\">  2013</td><td style=\"text-align: right;\">      8</td><td style=\"text-align: right;\"> 57988</td></tr>\n",
       "<tr><td style=\"text-align: right;\">  2013</td><td style=\"text-align: right;\">      9</td><td style=\"text-align: right;\"> 51543</td></tr>\n",
       "<tr><td style=\"text-align: right;\">  2014</td><td style=\"text-align: right;\">      1</td><td style=\"text-align: right;\"> 53270</td></tr>\n",
       "<tr><td style=\"text-align: right;\">  2014</td><td style=\"text-align: right;\">      2</td><td style=\"text-align: right;\"> 47656</td></tr>\n",
       "<tr><td style=\"text-align: right;\">  2014</td><td style=\"text-align: right;\">      3</td><td style=\"text-align: right;\"> 49258</td></tr>\n",
       "<tr><td style=\"text-align: right;\">  2014</td><td style=\"text-align: right;\">      4</td><td style=\"text-align: right;\"> 44719</td></tr>\n",
       "<tr><td style=\"text-align: right;\">  2014</td><td style=\"text-align: right;\">      5</td><td style=\"text-align: right;\"> 45743</td></tr>\n",
       "<tr><td style=\"text-align: right;\">  2014</td><td style=\"text-align: right;\">      6</td><td style=\"text-align: right;\"> 46458</td></tr>\n",
       "<tr><td style=\"text-align: right;\">  2014</td><td style=\"text-align: right;\">      7</td><td style=\"text-align: right;\"> 45731</td></tr>\n",
       "<tr><td style=\"text-align: right;\">  2014</td><td style=\"text-align: right;\">      8</td><td style=\"text-align: right;\"> 46418</td></tr>\n",
       "<tr><td style=\"text-align: right;\">  2014</td><td style=\"text-align: right;\">      9</td><td style=\"text-align: right;\"> 40392</td></tr>\n",
       "<tr><td style=\"text-align: right;\">  2015</td><td style=\"text-align: right;\">      1</td><td style=\"text-align: right;\"> 46738</td></tr>\n",
       "<tr><td style=\"text-align: right;\">  2015</td><td style=\"text-align: right;\">      2</td><td style=\"text-align: right;\"> 41360</td></tr>\n",
       "<tr><td style=\"text-align: right;\">  2015</td><td style=\"text-align: right;\">      3</td><td style=\"text-align: right;\"> 40442</td></tr>\n",
       "<tr><td style=\"text-align: right;\">  2015</td><td style=\"text-align: right;\">      4</td><td style=\"text-align: right;\"> 32851</td></tr>\n",
       "<tr><td style=\"text-align: right;\">  2015</td><td style=\"text-align: right;\">      5</td><td style=\"text-align: right;\"> 32206</td></tr>\n",
       "<tr><td style=\"text-align: right;\">  2015</td><td style=\"text-align: right;\">      6</td><td style=\"text-align: right;\"> 31895</td></tr>\n",
       "<tr><td style=\"text-align: right;\">  2015</td><td style=\"text-align: right;\">      7</td><td style=\"text-align: right;\"> 33515</td></tr>\n",
       "<tr><td style=\"text-align: right;\">  2015</td><td style=\"text-align: right;\">      8</td><td style=\"text-align: right;\"> 33472</td></tr>\n",
       "<tr><td style=\"text-align: right;\">  2015</td><td style=\"text-align: right;\">      9</td><td style=\"text-align: right;\"> 29652</td></tr>\n",
       "</tbody>\n",
       "</table>"
      ]
     },
     "metadata": {},
     "output_type": "display_data"
    },
    {
     "data": {
      "text/plain": []
     },
     "execution_count": 44,
     "metadata": {},
     "output_type": "execute_result"
    }
   ],
   "source": [
    "train_grouped.group_by([\"year\", \"month\"]).count().get_frame().head(50)"
   ]
  },
  {
   "cell_type": "code",
   "execution_count": 45,
   "metadata": {
    "ExecuteTime": {
     "end_time": "2020-08-29T20:53:28.339006Z",
     "start_time": "2020-08-29T20:53:28.285175Z"
    }
   },
   "outputs": [
    {
     "data": {
      "text/html": [
       "<table>\n",
       "<thead>\n",
       "<tr><th style=\"text-align: right;\">  year</th><th style=\"text-align: right;\">  month</th><th style=\"text-align: right;\">  nrow</th></tr>\n",
       "</thead>\n",
       "<tbody>\n",
       "<tr><td style=\"text-align: right;\">  2013</td><td style=\"text-align: right;\">     10</td><td style=\"text-align: right;\"> 51057</td></tr>\n",
       "<tr><td style=\"text-align: right;\">  2014</td><td style=\"text-align: right;\">     10</td><td style=\"text-align: right;\"> 42581</td></tr>\n",
       "<tr><td style=\"text-align: right;\">  2015</td><td style=\"text-align: right;\">     10</td><td style=\"text-align: right;\"> 31521</td></tr>\n",
       "</tbody>\n",
       "</table>"
      ]
     },
     "metadata": {},
     "output_type": "display_data"
    },
    {
     "data": {
      "text/plain": []
     },
     "execution_count": 45,
     "metadata": {},
     "output_type": "execute_result"
    }
   ],
   "source": [
    "test_grouped.group_by([\"year\", \"month\"]).count().get_frame().head(50)"
   ]
  },
  {
   "cell_type": "markdown",
   "metadata": {},
   "source": [
    "## Model"
   ]
  },
  {
   "cell_type": "code",
   "execution_count": 37,
   "metadata": {
    "ExecuteTime": {
     "end_time": "2020-08-29T20:43:44.724752Z",
     "start_time": "2020-08-29T20:43:44.717907Z"
    }
   },
   "outputs": [],
   "source": [
    "from h2o.automl import H2OAutoML\n",
    "\n",
    "# Define label and predictors\n",
    "y = \"item_cnt_day\"\n",
    "x = [\"shop_id\", \"item_id\", \"date_block_num\", \"year\", \"month\"]\n",
    "\n",
    "aml = H2OAutoML(seed=42, max_runtime_secs=300, nfolds=5)"
   ]
  },
  {
   "cell_type": "code",
   "execution_count": 38,
   "metadata": {
    "ExecuteTime": {
     "end_time": "2020-08-29T20:48:46.166956Z",
     "start_time": "2020-08-29T20:43:45.832401Z"
    }
   },
   "outputs": [
    {
     "name": "stdout",
     "output_type": "stream",
     "text": [
      "AutoML progress: |\n",
      "17:43:45.928: Fold column fold will be used for cross-validation. nfolds parameter will be ignored.\n",
      "\n",
      "████████████████████████████████████████████████████████| 100%\n"
     ]
    },
    {
     "data": {
      "text/html": [
       "<table>\n",
       "<thead>\n",
       "<tr><th>model_id                                           </th><th style=\"text-align: right;\">  mean_residual_deviance</th><th style=\"text-align: right;\">    rmse</th><th style=\"text-align: right;\">     mse</th><th style=\"text-align: right;\">    mae</th><th style=\"text-align: right;\">     rmsle</th></tr>\n",
       "</thead>\n",
       "<tbody>\n",
       "<tr><td>GBM_grid__1_AutoML_20200829_174345_model_1         </td><td style=\"text-align: right;\">                 80.5604</td><td style=\"text-align: right;\"> 8.97554</td><td style=\"text-align: right;\"> 80.5604</td><td style=\"text-align: right;\">1.55121</td><td style=\"text-align: right;\">nan       </td></tr>\n",
       "<tr><td>StackedEnsemble_BestOfFamily_AutoML_20200829_174345</td><td style=\"text-align: right;\">                 84.8061</td><td style=\"text-align: right;\"> 9.20902</td><td style=\"text-align: right;\"> 84.8061</td><td style=\"text-align: right;\">1.63311</td><td style=\"text-align: right;\">nan       </td></tr>\n",
       "<tr><td>StackedEnsemble_AllModels_AutoML_20200829_174345   </td><td style=\"text-align: right;\">                 85.1202</td><td style=\"text-align: right;\"> 9.22606</td><td style=\"text-align: right;\"> 85.1202</td><td style=\"text-align: right;\">1.66971</td><td style=\"text-align: right;\">nan       </td></tr>\n",
       "<tr><td>XGBoost_grid__1_AutoML_20200829_174345_model_1     </td><td style=\"text-align: right;\">                 86.2967</td><td style=\"text-align: right;\"> 9.2896 </td><td style=\"text-align: right;\"> 86.2967</td><td style=\"text-align: right;\">1.71867</td><td style=\"text-align: right;\">nan       </td></tr>\n",
       "<tr><td>XGBoost_1_AutoML_20200829_174345                   </td><td style=\"text-align: right;\">                 95.1731</td><td style=\"text-align: right;\"> 9.75567</td><td style=\"text-align: right;\"> 95.1731</td><td style=\"text-align: right;\">1.6164 </td><td style=\"text-align: right;\">nan       </td></tr>\n",
       "<tr><td>GBM_4_AutoML_20200829_174345                       </td><td style=\"text-align: right;\">                 96.2128</td><td style=\"text-align: right;\"> 9.80881</td><td style=\"text-align: right;\"> 96.2128</td><td style=\"text-align: right;\">1.77847</td><td style=\"text-align: right;\">nan       </td></tr>\n",
       "<tr><td>GBM_3_AutoML_20200829_174345                       </td><td style=\"text-align: right;\">                 96.8074</td><td style=\"text-align: right;\"> 9.83908</td><td style=\"text-align: right;\"> 96.8074</td><td style=\"text-align: right;\">1.77998</td><td style=\"text-align: right;\">  0.521814</td></tr>\n",
       "<tr><td>GBM_2_AutoML_20200829_174345                       </td><td style=\"text-align: right;\">                 98.9471</td><td style=\"text-align: right;\"> 9.94722</td><td style=\"text-align: right;\"> 98.9471</td><td style=\"text-align: right;\">1.78893</td><td style=\"text-align: right;\">  0.525857</td></tr>\n",
       "<tr><td>XGBoost_3_AutoML_20200829_174345                   </td><td style=\"text-align: right;\">                100.195 </td><td style=\"text-align: right;\">10.0098 </td><td style=\"text-align: right;\">100.195 </td><td style=\"text-align: right;\">1.82486</td><td style=\"text-align: right;\">nan       </td></tr>\n",
       "<tr><td>XGBoost_2_AutoML_20200829_174345                   </td><td style=\"text-align: right;\">                101.864 </td><td style=\"text-align: right;\">10.0928 </td><td style=\"text-align: right;\">101.864 </td><td style=\"text-align: right;\">1.44475</td><td style=\"text-align: right;\">nan       </td></tr>\n",
       "</tbody>\n",
       "</table>"
      ]
     },
     "metadata": {},
     "output_type": "display_data"
    },
    {
     "data": {
      "text/plain": []
     },
     "execution_count": 38,
     "metadata": {},
     "output_type": "execute_result"
    }
   ],
   "source": [
    "aml.train(x=x, y=y,\n",
    "          training_frame=train_grouped,\n",
    "          fold_column=\"fold\",\n",
    "          leaderboard_frame=test_grouped)\n",
    "\n",
    "aml.leaderboard.head()\n",
    "#  8.97 >> train jan-set / leaderboard out / fold_column = year\n",
    "# 13.62 >> train full -> leaderboard out/15\n",
    "# 12.78 >> train jan-set / leaderboard out/15 / auto fold\n",
    "# 13.xx >> train jan-set / leaderboard out/15 / fold_column = year"
   ]
  },
  {
   "cell_type": "markdown",
   "metadata": {},
   "source": [
    "## Submission"
   ]
  },
  {
   "cell_type": "code",
   "execution_count": 23,
   "metadata": {
    "ExecuteTime": {
     "end_time": "2020-08-29T17:23:06.903137Z",
     "start_time": "2020-08-29T17:23:06.626709Z"
    }
   },
   "outputs": [],
   "source": [
    "submission[[\"ID\", \"item_cnt_month\"]].to_csv(\"submission.csv\",\n",
    "                                          index=False)"
   ]
  },
  {
   "cell_type": "code",
   "execution_count": 24,
   "metadata": {
    "ExecuteTime": {
     "end_time": "2020-08-29T17:23:13.077150Z",
     "start_time": "2020-08-29T17:23:08.075928Z"
    }
   },
   "outputs": [
    {
     "name": "stdout",
     "output_type": "stream",
     "text": [
      "100%|███████████████████████████████████████| 2.14M/2.14M [00:03<00:00, 678kB/s]\n",
      "Successfully submitted to Predict Future Sales"
     ]
    }
   ],
   "source": [
    "!kaggle competitions submit -c competitive-data-science-predict-future-sales -f submission.csv -m \"Baseline3\""
   ]
  },
  {
   "cell_type": "code",
   "execution_count": null,
   "metadata": {},
   "outputs": [],
   "source": []
  }
 ],
 "metadata": {
  "kernelspec": {
   "display_name": "hse_comp_ds",
   "language": "python",
   "name": "hse_comp_ds"
  },
  "language_info": {
   "codemirror_mode": {
    "name": "ipython",
    "version": 3
   },
   "file_extension": ".py",
   "mimetype": "text/x-python",
   "name": "python",
   "nbconvert_exporter": "python",
   "pygments_lexer": "ipython3",
   "version": "3.8.3"
  }
 },
 "nbformat": 4,
 "nbformat_minor": 4
}
