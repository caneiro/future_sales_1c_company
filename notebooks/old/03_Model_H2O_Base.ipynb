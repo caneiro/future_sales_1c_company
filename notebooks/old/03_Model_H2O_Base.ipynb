{
 "cells": [
  {
   "cell_type": "markdown",
   "metadata": {
    "ExecuteTime": {
     "end_time": "2020-08-05T00:21:42.525077Z",
     "start_time": "2020-08-05T00:21:42.521233Z"
    }
   },
   "source": [
    "# Predict Future Sale - Baseline\n",
    "## Final project for \"How to win a data science competition\" Coursera course\n",
    "https://www.kaggle.com/c/competitive-data-science-predict-future-sales/data  \n",
    ">Student: Rafael Caneiro de Oliveira  \n",
    ">Email: rafael.caneiro@gmail.com  \n",
    ">Date: 04/08/2020"
   ]
  },
  {
   "cell_type": "markdown",
   "metadata": {},
   "source": [
    "## Load the data"
   ]
  },
  {
   "cell_type": "code",
   "execution_count": 51,
   "metadata": {
    "ExecuteTime": {
     "end_time": "2020-09-01T03:13:38.785341Z",
     "start_time": "2020-09-01T03:13:38.781713Z"
    }
   },
   "outputs": [],
   "source": [
    "import numpy as np\n",
    "import pandas as pd\n",
    "\n",
    "from pathlib import Path\n",
    "\n",
    "PATH = Path.cwd().parent\n",
    "DATA_PATH = Path(PATH, \"./data/raw/\") "
   ]
  },
  {
   "cell_type": "code",
   "execution_count": 52,
   "metadata": {
    "ExecuteTime": {
     "end_time": "2020-09-01T03:13:40.270649Z",
     "start_time": "2020-09-01T03:13:38.788193Z"
    },
    "scrolled": true
   },
   "outputs": [],
   "source": [
    "# Load the data\n",
    "train_df = pd.read_csv(Path(DATA_PATH,\"sales_train.csv\"))\n",
    "test_df = pd.read_csv(Path(DATA_PATH,\"test.csv\"))\n",
    "items_df = pd.read_csv(Path(DATA_PATH,\"items.csv\"))\n",
    "\n",
    "# # Merge item category data for train\n",
    "# train_df = pd.merge(train_df,\n",
    "#                     items_df[[\"item_id\", \"item_category_id\"]],\n",
    "#                     how=\"inner\",\n",
    "#                     on=\"item_id\")\n",
    "\n",
    "# # Merge item category data for test\n",
    "# test_df = pd.merge(test_df,\n",
    "#                    items_df[[\"item_id\", \"item_category_id\"]],\n",
    "#                    how=\"inner\",\n",
    "#                    on=\"item_id\")\n",
    "\n",
    "# Dates engineering on train data\n",
    "train_df[\"date\"] = pd.to_datetime(train_df[\"date\"], format=\"%d.%m.%Y\")\n",
    "train_df[\"quarter\"] = train_df.date.dt.quarter\n",
    "train_df[\"year\"] = train_df.date.dt.year\n",
    "train_df[\"month\"] = train_df.date.dt.month\n",
    "\n",
    "# Dates engineering on test data\n",
    "test_df[\"date_block_num\"] = 34\n",
    "test_df[\"quarter\"] = 3\n",
    "test_df[\"year\"] = 2015\n",
    "test_df[\"month\"] = 11\n"
   ]
  },
  {
   "cell_type": "markdown",
   "metadata": {},
   "source": [
    "## Outliers\n",
    "https://towardsdatascience.com/ways-to-detect-and-remove-the-outliers-404d16608dba"
   ]
  },
  {
   "cell_type": "code",
   "execution_count": 53,
   "metadata": {
    "ExecuteTime": {
     "end_time": "2020-09-01T03:13:40.542942Z",
     "start_time": "2020-09-01T03:13:40.273319Z"
    },
    "scrolled": true
   },
   "outputs": [],
   "source": [
    "cols = [\"item_price\", \"item_cnt_day\"]\n",
    "for col in cols:\n",
    "    upperbound = np.percentile(train_df[col], 99)\n",
    "    train_df.loc[train_df[col] > upperbound, \"is_outlier\"] = 1\n",
    "    \n",
    "train_df.is_outlier.fillna(0, inplace=True)"
   ]
  },
  {
   "cell_type": "markdown",
   "metadata": {},
   "source": [
    "## Train / Validation Datasets"
   ]
  },
  {
   "cell_type": "code",
   "execution_count": 54,
   "metadata": {
    "ExecuteTime": {
     "end_time": "2020-09-01T03:13:40.775689Z",
     "start_time": "2020-09-01T03:13:40.545222Z"
    },
    "scrolled": true
   },
   "outputs": [
    {
     "name": "stdout",
     "output_type": "stream",
     "text": [
      "Checking whether there is an H2O instance running at http://localhost:54321 . connected.\n"
     ]
    },
    {
     "data": {
      "text/html": [
       "<div style=\"overflow:auto\"><table style=\"width:50%\"><tr><td>H2O_cluster_uptime:</td>\n",
       "<td>16 secs</td></tr>\n",
       "<tr><td>H2O_cluster_timezone:</td>\n",
       "<td>America/Sao_Paulo</td></tr>\n",
       "<tr><td>H2O_data_parsing_timezone:</td>\n",
       "<td>UTC</td></tr>\n",
       "<tr><td>H2O_cluster_version:</td>\n",
       "<td>3.30.1.1</td></tr>\n",
       "<tr><td>H2O_cluster_version_age:</td>\n",
       "<td>21 days, 9 hours and 40 minutes </td></tr>\n",
       "<tr><td>H2O_cluster_name:</td>\n",
       "<td>rco</td></tr>\n",
       "<tr><td>H2O_cluster_total_nodes:</td>\n",
       "<td>1</td></tr>\n",
       "<tr><td>H2O_cluster_free_memory:</td>\n",
       "<td>7.103 Gb</td></tr>\n",
       "<tr><td>H2O_cluster_total_cores:</td>\n",
       "<td>16</td></tr>\n",
       "<tr><td>H2O_cluster_allowed_cores:</td>\n",
       "<td>16</td></tr>\n",
       "<tr><td>H2O_cluster_status:</td>\n",
       "<td>accepting new members, healthy</td></tr>\n",
       "<tr><td>H2O_connection_url:</td>\n",
       "<td>http://localhost:54321</td></tr>\n",
       "<tr><td>H2O_connection_proxy:</td>\n",
       "<td>{\"http\": null, \"https\": null}</td></tr>\n",
       "<tr><td>H2O_internal_security:</td>\n",
       "<td>False</td></tr>\n",
       "<tr><td>H2O_API_Extensions:</td>\n",
       "<td>Amazon S3, XGBoost, Algos, AutoML, Core V3, TargetEncoder, Core V4</td></tr>\n",
       "<tr><td>Python_version:</td>\n",
       "<td>3.8.3 final</td></tr></table></div>"
      ],
      "text/plain": [
       "--------------------------  ------------------------------------------------------------------\n",
       "H2O_cluster_uptime:         16 secs\n",
       "H2O_cluster_timezone:       America/Sao_Paulo\n",
       "H2O_data_parsing_timezone:  UTC\n",
       "H2O_cluster_version:        3.30.1.1\n",
       "H2O_cluster_version_age:    21 days, 9 hours and 40 minutes\n",
       "H2O_cluster_name:           rco\n",
       "H2O_cluster_total_nodes:    1\n",
       "H2O_cluster_free_memory:    7.103 Gb\n",
       "H2O_cluster_total_cores:    16\n",
       "H2O_cluster_allowed_cores:  16\n",
       "H2O_cluster_status:         accepting new members, healthy\n",
       "H2O_connection_url:         http://localhost:54321\n",
       "H2O_connection_proxy:       {\"http\": null, \"https\": null}\n",
       "H2O_internal_security:      False\n",
       "H2O_API_Extensions:         Amazon S3, XGBoost, Algos, AutoML, Core V3, TargetEncoder, Core V4\n",
       "Python_version:             3.8.3 final\n",
       "--------------------------  ------------------------------------------------------------------"
      ]
     },
     "metadata": {},
     "output_type": "display_data"
    }
   ],
   "source": [
    "import h2o\n",
    "h2o.init()\n",
    "# h2o.shutdown()"
   ]
  },
  {
   "cell_type": "code",
   "execution_count": 55,
   "metadata": {
    "ExecuteTime": {
     "end_time": "2020-09-01T03:13:50.470246Z",
     "start_time": "2020-09-01T03:13:40.777291Z"
    },
    "scrolled": true
   },
   "outputs": [
    {
     "name": "stdout",
     "output_type": "stream",
     "text": [
      "Parse progress: |█████████████████████████████████████████████████████████| 100%\n"
     ]
    }
   ],
   "source": [
    "def create_grouped(df, returned=False):\n",
    "    if returned:\n",
    "        df_grouped = df \\\n",
    "            .groupby([\"year\", \"month\", \"shop_id\", \n",
    "                      \"item_id\", \"date_block_num\"]) \\\n",
    "            .agg({\"item_cnt_day\":\"sum\"}) \\\n",
    "            .reset_index()        \n",
    "    else:\n",
    "        df_grouped = df[(df.item_cnt_day>=0)] \\\n",
    "            .groupby([\"year\", \"month\", \"shop_id\", \n",
    "                      \"item_id\", \"date_block_num\"]) \\\n",
    "            .agg({\"item_cnt_day\":\"sum\"}) \\\n",
    "            .reset_index()\n",
    "    return df_grouped\n",
    "\n",
    "train_grouped = h2o.H2OFrame(create_grouped(train_df[(train_df.month.between(1,11)) &\n",
    "                                                     (train_df.date_block_num<=33)]))\n",
    "train_grouped[\"fold\"] = train_grouped[\"year\"] - 2013\n",
    "\n",
    "# valid_grouped = h2o.H2OFrame(create_grouped(train_df[(train_df.month==11) &\n",
    "#                                         (train_df.year.between(2013, 2014))]))\n",
    "\n",
    "# valid_grouped[\"fold\"] = valid_grouped[\"year\"] - 2013\n",
    "\n",
    "\n",
    "# test_grouped = h2o.H2OFrame(create_grouped(train_df[(train_df.month==11) &\n",
    "#                                                     (train_df.year==2015)]))"
   ]
  },
  {
   "cell_type": "code",
   "execution_count": 63,
   "metadata": {
    "ExecuteTime": {
     "end_time": "2020-09-01T15:27:37.208398Z",
     "start_time": "2020-09-01T15:27:10.972308Z"
    }
   },
   "outputs": [
    {
     "name": "stdout",
     "output_type": "stream",
     "text": [
      "Parse progress: |█████████████████████████████████████████████████████████| 100%\n"
     ]
    }
   ],
   "source": [
    "htrain = h2o.H2OFrame(train_df[train_df.date_block_num<=33])"
   ]
  },
  {
   "cell_type": "markdown",
   "metadata": {},
   "source": [
    "## Model"
   ]
  },
  {
   "cell_type": "code",
   "execution_count": 70,
   "metadata": {
    "ExecuteTime": {
     "end_time": "2020-09-01T15:44:08.336812Z",
     "start_time": "2020-09-01T15:44:08.324312Z"
    }
   },
   "outputs": [],
   "source": [
    "from h2o.automl import H2OAutoML\n",
    "\n",
    "# Define label and predictors\n",
    "y = \"item_cnt_day\"\n",
    "x = [\"shop_id\", \"item_id\", \"date_block_num\", \"year\", \"month\"]\n",
    "\n",
    "aml = H2OAutoML(seed=42, max_runtime_secs=3600, max_models=50, nfolds=5)"
   ]
  },
  {
   "cell_type": "code",
   "execution_count": 71,
   "metadata": {
    "ExecuteTime": {
     "end_time": "2020-09-01T16:39:52.171033Z",
     "start_time": "2020-09-01T15:44:08.471712Z"
    }
   },
   "outputs": [
    {
     "name": "stdout",
     "output_type": "stream",
     "text": [
      "AutoML progress: |████████████████████████████████████████████████████████| 100%\n"
     ]
    }
   ],
   "source": [
    "aml.train(x=x, y=y,\n",
    "          training_frame=htrain)"
   ]
  },
  {
   "cell_type": "code",
   "execution_count": 65,
   "metadata": {
    "ExecuteTime": {
     "end_time": "2020-09-01T15:39:13.443145Z",
     "start_time": "2020-09-01T15:28:51.085302Z"
    }
   },
   "outputs": [
    {
     "name": "stdout",
     "output_type": "stream",
     "text": [
      "AutoML progress: |████████████████████████████████████████████████████████| 100%\n"
     ]
    },
    {
     "data": {
      "text/html": [
       "<table>\n",
       "<thead>\n",
       "<tr><th>model_id                                           </th><th style=\"text-align: right;\">  mean_residual_deviance</th><th style=\"text-align: right;\">   rmse</th><th style=\"text-align: right;\">    mse</th><th style=\"text-align: right;\">     mae</th><th style=\"text-align: right;\">  rmsle</th></tr>\n",
       "</thead>\n",
       "<tbody>\n",
       "<tr><td>StackedEnsemble_AllModels_AutoML_20200901_122851   </td><td style=\"text-align: right;\">                 5.8459 </td><td style=\"text-align: right;\">2.41783</td><td style=\"text-align: right;\">5.8459 </td><td style=\"text-align: right;\">0.320701</td><td style=\"text-align: right;\">    nan</td></tr>\n",
       "<tr><td>StackedEnsemble_BestOfFamily_AutoML_20200901_122851</td><td style=\"text-align: right;\">                 5.88053</td><td style=\"text-align: right;\">2.42498</td><td style=\"text-align: right;\">5.88053</td><td style=\"text-align: right;\">0.332113</td><td style=\"text-align: right;\">    nan</td></tr>\n",
       "<tr><td>XGBoost_grid__1_AutoML_20200901_122851_model_1     </td><td style=\"text-align: right;\">                 5.88481</td><td style=\"text-align: right;\">2.42586</td><td style=\"text-align: right;\">5.88481</td><td style=\"text-align: right;\">0.327396</td><td style=\"text-align: right;\">    nan</td></tr>\n",
       "<tr><td>XGBoost_2_AutoML_20200901_122851                   </td><td style=\"text-align: right;\">                 6.22743</td><td style=\"text-align: right;\">2.49548</td><td style=\"text-align: right;\">6.22743</td><td style=\"text-align: right;\">0.419702</td><td style=\"text-align: right;\">    nan</td></tr>\n",
       "<tr><td>XGBoost_1_AutoML_20200901_122851                   </td><td style=\"text-align: right;\">                 6.2587 </td><td style=\"text-align: right;\">2.50174</td><td style=\"text-align: right;\">6.2587 </td><td style=\"text-align: right;\">0.31697 </td><td style=\"text-align: right;\">    nan</td></tr>\n",
       "<tr><td>DRF_1_AutoML_20200901_122851                       </td><td style=\"text-align: right;\">                 6.43823</td><td style=\"text-align: right;\">2.53737</td><td style=\"text-align: right;\">6.43823</td><td style=\"text-align: right;\">0.397386</td><td style=\"text-align: right;\">    nan</td></tr>\n",
       "<tr><td>GBM_2_AutoML_20200901_122851                       </td><td style=\"text-align: right;\">                 6.45538</td><td style=\"text-align: right;\">2.54074</td><td style=\"text-align: right;\">6.45538</td><td style=\"text-align: right;\">0.398299</td><td style=\"text-align: right;\">    nan</td></tr>\n",
       "<tr><td>XGBoost_3_AutoML_20200901_122851                   </td><td style=\"text-align: right;\">                 6.45959</td><td style=\"text-align: right;\">2.54157</td><td style=\"text-align: right;\">6.45959</td><td style=\"text-align: right;\">0.30191 </td><td style=\"text-align: right;\">    nan</td></tr>\n",
       "<tr><td>GBM_4_AutoML_20200901_122851                       </td><td style=\"text-align: right;\">                 6.4619 </td><td style=\"text-align: right;\">2.54203</td><td style=\"text-align: right;\">6.4619 </td><td style=\"text-align: right;\">0.408307</td><td style=\"text-align: right;\">    nan</td></tr>\n",
       "<tr><td>GBM_1_AutoML_20200901_122851                       </td><td style=\"text-align: right;\">                 6.47583</td><td style=\"text-align: right;\">2.54476</td><td style=\"text-align: right;\">6.47583</td><td style=\"text-align: right;\">0.402129</td><td style=\"text-align: right;\">    nan</td></tr>\n",
       "</tbody>\n",
       "</table>"
      ]
     },
     "metadata": {},
     "output_type": "display_data"
    },
    {
     "data": {
      "text/plain": []
     },
     "execution_count": 65,
     "metadata": {},
     "output_type": "execute_result"
    }
   ],
   "source": [
    "aml.leaderboard.head()\n",
    "#  8.97 >> train jan-set / leaderboard out / fold_column = year\n",
    "# 13.62 >> train full -> leaderboard out/15\n",
    "# 12.78 >> train jan-set / leaderboard out/15 / auto fold\n",
    "# 13.xx >> train jan-set / leaderboard out/15 / fold_column = year"
   ]
  },
  {
   "cell_type": "markdown",
   "metadata": {},
   "source": [
    "## Prediction"
   ]
  },
  {
   "cell_type": "code",
   "execution_count": 66,
   "metadata": {
    "ExecuteTime": {
     "end_time": "2020-09-01T15:41:04.867451Z",
     "start_time": "2020-09-01T15:41:03.474239Z"
    }
   },
   "outputs": [
    {
     "name": "stdout",
     "output_type": "stream",
     "text": [
      "Parse progress: |█████████████████████████████████████████████████████████| 100%\n",
      "stackedensemble prediction progress: |████████████████████████████████████| 100%\n"
     ]
    }
   ],
   "source": [
    "htest = h2o.H2OFrame(test_df)\n",
    "predictions = aml.predict(htest[x])\n",
    "predictions[predictions[\"predict\"]>20, \"predict\"] = 20\n",
    "predictions[predictions[\"predict\"]<0, \"predict\"] = 0"
   ]
  },
  {
   "cell_type": "markdown",
   "metadata": {},
   "source": [
    "## Submission"
   ]
  },
  {
   "cell_type": "code",
   "execution_count": 67,
   "metadata": {
    "ExecuteTime": {
     "end_time": "2020-09-01T15:41:05.607108Z",
     "start_time": "2020-09-01T15:41:04.869386Z"
    }
   },
   "outputs": [],
   "source": [
    "submission = htest.cbind(predictions).as_data_frame()\n",
    "submission.rename({\"predict\":\"item_cnt_month\"}, inplace=True, axis=1)"
   ]
  },
  {
   "cell_type": "code",
   "execution_count": 68,
   "metadata": {
    "ExecuteTime": {
     "end_time": "2020-09-01T15:41:06.803654Z",
     "start_time": "2020-09-01T15:41:06.382487Z"
    }
   },
   "outputs": [],
   "source": [
    "submission[[\"ID\", \"item_cnt_month\"]].to_csv(\"submission.csv\", index=False)"
   ]
  },
  {
   "cell_type": "code",
   "execution_count": 69,
   "metadata": {
    "ExecuteTime": {
     "end_time": "2020-09-01T15:41:12.760771Z",
     "start_time": "2020-09-01T15:41:06.991130Z"
    }
   },
   "outputs": [
    {
     "name": "stdout",
     "output_type": "stream",
     "text": [
      "100%|██████████████████████████████████████| 5.16M/5.16M [00:03<00:00, 1.71MB/s]\n",
      "Successfully submitted to Predict Future Sales"
     ]
    }
   ],
   "source": [
    "!kaggle competitions submit -c competitive-data-science-predict-future-sales -f submission.csv -m \"h2o_auto_ml_base\""
   ]
  },
  {
   "cell_type": "code",
   "execution_count": null,
   "metadata": {},
   "outputs": [],
   "source": []
  }
 ],
 "metadata": {
  "kernelspec": {
   "display_name": "hse_comp_ds",
   "language": "python",
   "name": "hse_comp_ds"
  },
  "language_info": {
   "codemirror_mode": {
    "name": "ipython",
    "version": 3
   },
   "file_extension": ".py",
   "mimetype": "text/x-python",
   "name": "python",
   "nbconvert_exporter": "python",
   "pygments_lexer": "ipython3",
   "version": "3.8.3"
  }
 },
 "nbformat": 4,
 "nbformat_minor": 4
}
