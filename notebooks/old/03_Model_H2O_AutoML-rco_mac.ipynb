{
 "cells": [
  {
   "cell_type": "markdown",
   "metadata": {
    "ExecuteTime": {
     "end_time": "2020-08-05T00:21:42.525077Z",
     "start_time": "2020-08-05T00:21:42.521233Z"
    }
   },
   "source": [
    "# Predict Future Sale - Baseline\n",
    "## Final project for \"How to win a data science competition\" Coursera course\n",
    "https://www.kaggle.com/c/competitive-data-science-predict-future-sales/data  \n",
    ">Student: Rafael Caneiro de Oliveira  \n",
    ">Email: rafael.caneiro@gmail.com  \n",
    ">Date: 04/08/2020"
   ]
  },
  {
   "cell_type": "markdown",
   "metadata": {},
   "source": [
    "## Load the data"
   ]
  },
  {
   "cell_type": "code",
   "execution_count": 41,
   "metadata": {
    "ExecuteTime": {
     "end_time": "2020-08-26T00:04:53.738836Z",
     "start_time": "2020-08-26T00:04:53.726129Z"
    }
   },
   "outputs": [],
   "source": [
    "import numpy as np\n",
    "import pandas as pd\n",
    "\n",
    "from pathlib import Path\n",
    "\n",
    "PATH = Path.cwd().parent\n",
    "DATA_PATH = Path(PATH, \"./data/raw/\") "
   ]
  },
  {
   "cell_type": "code",
   "execution_count": 42,
   "metadata": {
    "ExecuteTime": {
     "end_time": "2020-08-26T00:04:58.932600Z",
     "start_time": "2020-08-26T00:04:53.741573Z"
    }
   },
   "outputs": [
    {
     "name": "stdout",
     "output_type": "stream",
     "text": [
      "Checking whether there is an H2O instance running at http://localhost:54321 ..... not found.\n",
      "Attempting to start a local H2O server...\n",
      "  Java Version: java version \"1.8.0_211\"; Java(TM) SE Runtime Environment (build 1.8.0_211-b12); Java HotSpot(TM) 64-Bit Server VM (build 25.211-b12, mixed mode)\n",
      "  Starting server from /Users/rco/opt/anaconda3/envs/hse_comp_ds/lib/python3.8/site-packages/h2o/backend/bin/h2o.jar\n",
      "  Ice root: /var/folders/9v/rrpn016x5n19xkkf9fk88b8m0000gn/T/tmpd_nuxurm\n",
      "  JVM stdout: /var/folders/9v/rrpn016x5n19xkkf9fk88b8m0000gn/T/tmpd_nuxurm/h2o_rco_started_from_python.out\n",
      "  JVM stderr: /var/folders/9v/rrpn016x5n19xkkf9fk88b8m0000gn/T/tmpd_nuxurm/h2o_rco_started_from_python.err\n",
      "  Server is running at http://127.0.0.1:54321\n",
      "Connecting to H2O server at http://127.0.0.1:54321 ... successful.\n"
     ]
    },
    {
     "data": {
      "text/html": [
       "<div style=\"overflow:auto\"><table style=\"width:50%\"><tr><td>H2O_cluster_uptime:</td>\n",
       "<td>02 secs</td></tr>\n",
       "<tr><td>H2O_cluster_timezone:</td>\n",
       "<td>America/Sao_Paulo</td></tr>\n",
       "<tr><td>H2O_data_parsing_timezone:</td>\n",
       "<td>UTC</td></tr>\n",
       "<tr><td>H2O_cluster_version:</td>\n",
       "<td>3.30.1.1</td></tr>\n",
       "<tr><td>H2O_cluster_version_age:</td>\n",
       "<td>15 days </td></tr>\n",
       "<tr><td>H2O_cluster_name:</td>\n",
       "<td>H2O_from_python_rco_vbld1k</td></tr>\n",
       "<tr><td>H2O_cluster_total_nodes:</td>\n",
       "<td>1</td></tr>\n",
       "<tr><td>H2O_cluster_free_memory:</td>\n",
       "<td>3.556 Gb</td></tr>\n",
       "<tr><td>H2O_cluster_total_cores:</td>\n",
       "<td>16</td></tr>\n",
       "<tr><td>H2O_cluster_allowed_cores:</td>\n",
       "<td>16</td></tr>\n",
       "<tr><td>H2O_cluster_status:</td>\n",
       "<td>accepting new members, healthy</td></tr>\n",
       "<tr><td>H2O_connection_url:</td>\n",
       "<td>http://127.0.0.1:54321</td></tr>\n",
       "<tr><td>H2O_connection_proxy:</td>\n",
       "<td>{\"http\": null, \"https\": null}</td></tr>\n",
       "<tr><td>H2O_internal_security:</td>\n",
       "<td>False</td></tr>\n",
       "<tr><td>H2O_API_Extensions:</td>\n",
       "<td>Amazon S3, XGBoost, Algos, AutoML, Core V3, TargetEncoder, Core V4</td></tr>\n",
       "<tr><td>Python_version:</td>\n",
       "<td>3.8.3 final</td></tr></table></div>"
      ],
      "text/plain": [
       "--------------------------  ------------------------------------------------------------------\n",
       "H2O_cluster_uptime:         02 secs\n",
       "H2O_cluster_timezone:       America/Sao_Paulo\n",
       "H2O_data_parsing_timezone:  UTC\n",
       "H2O_cluster_version:        3.30.1.1\n",
       "H2O_cluster_version_age:    15 days\n",
       "H2O_cluster_name:           H2O_from_python_rco_vbld1k\n",
       "H2O_cluster_total_nodes:    1\n",
       "H2O_cluster_free_memory:    3.556 Gb\n",
       "H2O_cluster_total_cores:    16\n",
       "H2O_cluster_allowed_cores:  16\n",
       "H2O_cluster_status:         accepting new members, healthy\n",
       "H2O_connection_url:         http://127.0.0.1:54321\n",
       "H2O_connection_proxy:       {\"http\": null, \"https\": null}\n",
       "H2O_internal_security:      False\n",
       "H2O_API_Extensions:         Amazon S3, XGBoost, Algos, AutoML, Core V3, TargetEncoder, Core V4\n",
       "Python_version:             3.8.3 final\n",
       "--------------------------  ------------------------------------------------------------------"
      ]
     },
     "metadata": {},
     "output_type": "display_data"
    }
   ],
   "source": [
    "import h2o\n",
    "h2o.init()"
   ]
  },
  {
   "cell_type": "code",
   "execution_count": 43,
   "metadata": {
    "ExecuteTime": {
     "end_time": "2020-08-26T00:05:02.632209Z",
     "start_time": "2020-08-26T00:04:58.934802Z"
    }
   },
   "outputs": [
    {
     "name": "stdout",
     "output_type": "stream",
     "text": [
      "Parse progress: |█████████████████████████████████████████████████████████| 100%\n",
      "Parse progress: |█████████████████████████████████████████████████████████| 100%\n",
      "Parse progress: |█████████████████████████████████████████████████████████| 100%\n",
      "Parse progress: |█████████████████████████████████████████████████████████| 100%\n",
      "Parse progress: |█████████████████████████████████████████████████████████| 100%\n"
     ]
    }
   ],
   "source": [
    "train_df = h2o.import_file(Path(DATA_PATH,\"sales_train.csv\").as_uri())\n",
    "test_df = h2o.import_file(Path(DATA_PATH,\"test.csv\").as_uri())\n",
    "items_df = h2o.import_file(Path(DATA_PATH,\"items.csv\").as_uri())\n",
    "shops_df = h2o.import_file(Path(DATA_PATH,\"shops.csv\").as_uri())\n",
    "categories_df = h2o.import_file(Path(DATA_PATH,\"item_categories.csv\").as_uri())"
   ]
  },
  {
   "cell_type": "code",
   "execution_count": 44,
   "metadata": {
    "ExecuteTime": {
     "end_time": "2020-08-26T00:05:02.763132Z",
     "start_time": "2020-08-26T00:05:02.634289Z"
    }
   },
   "outputs": [
    {
     "data": {
      "text/html": [
       "<table>\n",
       "<thead>\n",
       "<tr><th>date      </th><th style=\"text-align: right;\">  date_block_num</th><th style=\"text-align: right;\">  shop_id</th><th style=\"text-align: right;\">  item_id</th><th style=\"text-align: right;\">  item_price</th><th style=\"text-align: right;\">  item_cnt_day</th></tr>\n",
       "</thead>\n",
       "<tbody>\n",
       "<tr><td>02.01.2013</td><td style=\"text-align: right;\">               0</td><td style=\"text-align: right;\">       59</td><td style=\"text-align: right;\">    22154</td><td style=\"text-align: right;\">      999   </td><td style=\"text-align: right;\">             1</td></tr>\n",
       "<tr><td>03.01.2013</td><td style=\"text-align: right;\">               0</td><td style=\"text-align: right;\">       25</td><td style=\"text-align: right;\">     2552</td><td style=\"text-align: right;\">      899   </td><td style=\"text-align: right;\">             1</td></tr>\n",
       "<tr><td>05.01.2013</td><td style=\"text-align: right;\">               0</td><td style=\"text-align: right;\">       25</td><td style=\"text-align: right;\">     2552</td><td style=\"text-align: right;\">      899   </td><td style=\"text-align: right;\">            -1</td></tr>\n",
       "<tr><td>06.01.2013</td><td style=\"text-align: right;\">               0</td><td style=\"text-align: right;\">       25</td><td style=\"text-align: right;\">     2554</td><td style=\"text-align: right;\">     1709.05</td><td style=\"text-align: right;\">             1</td></tr>\n",
       "<tr><td>15.01.2013</td><td style=\"text-align: right;\">               0</td><td style=\"text-align: right;\">       25</td><td style=\"text-align: right;\">     2555</td><td style=\"text-align: right;\">     1099   </td><td style=\"text-align: right;\">             1</td></tr>\n",
       "</tbody>\n",
       "</table>"
      ]
     },
     "metadata": {},
     "output_type": "display_data"
    },
    {
     "data": {
      "text/plain": []
     },
     "execution_count": 44,
     "metadata": {},
     "output_type": "execute_result"
    }
   ],
   "source": [
    "train_df.head(5)"
   ]
  },
  {
   "cell_type": "code",
   "execution_count": 45,
   "metadata": {
    "ExecuteTime": {
     "end_time": "2020-08-26T00:05:02.788647Z",
     "start_time": "2020-08-26T00:05:02.764489Z"
    }
   },
   "outputs": [
    {
     "data": {
      "text/html": [
       "<table>\n",
       "<thead>\n",
       "<tr><th>item_name                                                           </th><th style=\"text-align: right;\">  item_id</th><th style=\"text-align: right;\">  item_category_id</th></tr>\n",
       "</thead>\n",
       "<tbody>\n",
       "<tr><td>! ВО ВЛАСТИ НАВАЖДЕНИЯ (ПЛАСТ.)         D                           </td><td style=\"text-align: right;\">        0</td><td style=\"text-align: right;\">                40</td></tr>\n",
       "<tr><td>!ABBYY FineReader 12 Professional Edition Full [PC, Цифровая версия]</td><td style=\"text-align: right;\">        1</td><td style=\"text-align: right;\">                76</td></tr>\n",
       "<tr><td>***В ЛУЧАХ СЛАВЫ   (UNV)                    D                       </td><td style=\"text-align: right;\">        2</td><td style=\"text-align: right;\">                40</td></tr>\n",
       "<tr><td>***ГОЛУБАЯ ВОЛНА  (Univ)                      D                     </td><td style=\"text-align: right;\">        3</td><td style=\"text-align: right;\">                40</td></tr>\n",
       "<tr><td>***КОРОБКА (СТЕКЛО)                       D                         </td><td style=\"text-align: right;\">        4</td><td style=\"text-align: right;\">                40</td></tr>\n",
       "</tbody>\n",
       "</table>"
      ]
     },
     "metadata": {},
     "output_type": "display_data"
    },
    {
     "data": {
      "text/plain": []
     },
     "execution_count": 45,
     "metadata": {},
     "output_type": "execute_result"
    }
   ],
   "source": [
    "items_df.head(5)"
   ]
  },
  {
   "cell_type": "code",
   "execution_count": 46,
   "metadata": {
    "ExecuteTime": {
     "end_time": "2020-08-26T00:05:05.214498Z",
     "start_time": "2020-08-26T00:05:02.790062Z"
    },
    "scrolled": true
   },
   "outputs": [
    {
     "name": "stdout",
     "output_type": "stream",
     "text": [
      "(2935849, 6)\n",
      "(2935849, 7)\n"
     ]
    },
    {
     "data": {
      "text/html": [
       "<table>\n",
       "<thead>\n",
       "<tr><th>       </th><th>item_id  </th><th>date              </th><th>date_block_num    </th><th>shop_id  </th><th>item_price        </th><th>item_cnt_day      </th><th>item_category_id  </th><th>year              </th><th>month            </th></tr>\n",
       "</thead>\n",
       "<tbody>\n",
       "<tr><td>type   </td><td>enum     </td><td>int               </td><td>int               </td><td>enum     </td><td>real              </td><td>int               </td><td>enum              </td><td>int               </td><td>int              </td></tr>\n",
       "<tr><td>mins   </td><td>         </td><td>1356998400000.0   </td><td>0.0               </td><td>         </td><td>-1.0              </td><td>-22.0             </td><td>                  </td><td>2013.0            </td><td>1.0              </td></tr>\n",
       "<tr><td>mean   </td><td>         </td><td>1396503874970.6816</td><td>14.569911463430167</td><td>         </td><td>890.8532326980118 </td><td>1.2426408851408905</td><td>                  </td><td>2013.7768495586797</td><td>6.247716759274743</td></tr>\n",
       "<tr><td>maxs   </td><td>         </td><td>1446249600000.0   </td><td>33.0              </td><td>         </td><td>307980.0          </td><td>2169.0            </td><td>                  </td><td>2015.0            </td><td>12.0             </td></tr>\n",
       "<tr><td>sigma  </td><td>         </td><td>24788116176.834805</td><td>9.422987708755727 </td><td>         </td><td>1729.7996307126589</td><td>2.618834430895425 </td><td>                  </td><td>0.7684789546941898</td><td>3.53621934262439 </td></tr>\n",
       "<tr><td>zeros  </td><td>         </td><td>0                 </td><td>115690            </td><td>         </td><td>0                 </td><td>0                 </td><td>                  </td><td>0                 </td><td>0                </td></tr>\n",
       "<tr><td>missing</td><td>0        </td><td>0                 </td><td>0                 </td><td>0        </td><td>0                 </td><td>0                 </td><td>0                 </td><td>0                 </td><td>0                </td></tr>\n",
       "<tr><td>0      </td><td>0        </td><td>1409529600000.0   </td><td>20.0              </td><td>54       </td><td>58.0              </td><td>1.0               </td><td>40                </td><td>2014.0            </td><td>9.0              </td></tr>\n",
       "<tr><td>1      </td><td>1        </td><td>1396569600000.0   </td><td>15.0              </td><td>55       </td><td>4490.0            </td><td>1.0               </td><td>76                </td><td>2014.0            </td><td>4.0              </td></tr>\n",
       "<tr><td>2      </td><td>1        </td><td>1396396800000.0   </td><td>15.0              </td><td>55       </td><td>4490.0            </td><td>1.0               </td><td>76                </td><td>2014.0            </td><td>4.0              </td></tr>\n",
       "<tr><td>3      </td><td>1        </td><td>1404604800000.0   </td><td>18.0              </td><td>55       </td><td>4490.0            </td><td>1.0               </td><td>76                </td><td>2014.0            </td><td>7.0              </td></tr>\n",
       "<tr><td>4      </td><td>1        </td><td>1407110400000.0   </td><td>19.0              </td><td>55       </td><td>4490.0            </td><td>1.0               </td><td>76                </td><td>2014.0            </td><td>8.0              </td></tr>\n",
       "<tr><td>5      </td><td>1        </td><td>1410393600000.0   </td><td>20.0              </td><td>55       </td><td>4490.0            </td><td>1.0               </td><td>76                </td><td>2014.0            </td><td>9.0              </td></tr>\n",
       "<tr><td>6      </td><td>1        </td><td>1413763200000.0   </td><td>21.0              </td><td>55       </td><td>4490.0            </td><td>1.0               </td><td>76                </td><td>2014.0            </td><td>10.0             </td></tr>\n",
       "<tr><td>7      </td><td>2        </td><td>1408838400000.0   </td><td>19.0              </td><td>54       </td><td>58.0              </td><td>1.0               </td><td>40                </td><td>2014.0            </td><td>8.0              </td></tr>\n",
       "<tr><td>8      </td><td>2        </td><td>1415750400000.0   </td><td>22.0              </td><td>54       </td><td>58.0              </td><td>1.0               </td><td>40                </td><td>2014.0            </td><td>11.0             </td></tr>\n",
       "<tr><td>9      </td><td>3        </td><td>1404518400000.0   </td><td>18.0              </td><td>54       </td><td>100.0             </td><td>1.0               </td><td>40                </td><td>2014.0            </td><td>7.0              </td></tr>\n",
       "</tbody>\n",
       "</table>"
      ]
     },
     "metadata": {},
     "output_type": "display_data"
    }
   ],
   "source": [
    "print(train_df.shape)\n",
    "\n",
    "train_df = train_df.merge(items_df[[\"item_id\", \"item_category_id\"]],\n",
    "                          all_x=True,\n",
    "                          all_y=False,\n",
    "                          by_x=[\"item_id\"],\n",
    "                          by_y=[\"item_id\"])\n",
    "\n",
    "# train_df = train_df.merge(categories_df,\n",
    "#                           all_x=True,\n",
    "#                           all_y=False,\n",
    "#                           by_x=[\"item_category_id\"],\n",
    "#                           by_y=[\"item_category_id\"])\n",
    "\n",
    "# train_df = train_df.merge(shops_df,\n",
    "#                           all_x=True,\n",
    "#                           all_y=False,\n",
    "#                           by_x=[\"shop_id\"],\n",
    "#                           by_y=[\"shop_id\"])\n",
    "\n",
    "print(train_df.shape)\n",
    "\n",
    "train_df[\"date\"] = train_df[\"date\"].as_date(\"%d.%m.%Y\")\n",
    "train_df[\"year\"] = train_df[\"date\"].year()\n",
    "train_df[\"month\"] = train_df[\"date\"].month()\n",
    "\n",
    "categoricals = [\n",
    "    \"shop_id\", \"item_category_id\", \"item_id\",\n",
    "]\n",
    "\n",
    "for col in categoricals:\n",
    "    train_df[col] = train_df[col].asfactor()\n",
    "\n",
    "train_df.summary()"
   ]
  },
  {
   "cell_type": "code",
   "execution_count": 47,
   "metadata": {
    "ExecuteTime": {
     "end_time": "2020-08-26T00:05:05.734029Z",
     "start_time": "2020-08-26T00:05:05.216001Z"
    },
    "scrolled": true
   },
   "outputs": [
    {
     "data": {
      "text/html": [
       "<table>\n",
       "<thead>\n",
       "<tr><th>       </th><th>item_id  </th><th>ID                </th><th>shop_id  </th><th>date_block_num  </th><th>item_category_id  </th><th>year  </th><th>month  </th></tr>\n",
       "</thead>\n",
       "<tbody>\n",
       "<tr><td>type   </td><td>enum     </td><td>int               </td><td>enum     </td><td>int             </td><td>enum              </td><td>int   </td><td>int    </td></tr>\n",
       "<tr><td>mins   </td><td>         </td><td>0.0               </td><td>         </td><td>34.0            </td><td>                  </td><td>2015.0</td><td>11.0   </td></tr>\n",
       "<tr><td>mean   </td><td>         </td><td>107099.50000000001</td><td>         </td><td>34.0            </td><td>                  </td><td>2015.0</td><td>11.0   </td></tr>\n",
       "<tr><td>maxs   </td><td>         </td><td>214199.0          </td><td>         </td><td>34.0            </td><td>                  </td><td>2015.0</td><td>11.0   </td></tr>\n",
       "<tr><td>sigma  </td><td>         </td><td>61834.35816760776 </td><td>         </td><td>0.0             </td><td>                  </td><td>0.0   </td><td>0.0    </td></tr>\n",
       "<tr><td>zeros  </td><td>         </td><td>1                 </td><td>         </td><td>0               </td><td>                  </td><td>0     </td><td>0      </td></tr>\n",
       "<tr><td>missing</td><td>0        </td><td>0                 </td><td>0        </td><td>0               </td><td>0                 </td><td>0     </td><td>0      </td></tr>\n",
       "<tr><td>0      </td><td>30       </td><td>2587.0            </td><td>5        </td><td>34.0            </td><td>40                </td><td>2015.0</td><td>11.0   </td></tr>\n",
       "<tr><td>1      </td><td>30       </td><td>7687.0            </td><td>4        </td><td>34.0            </td><td>40                </td><td>2015.0</td><td>11.0   </td></tr>\n",
       "<tr><td>2      </td><td>30       </td><td>12787.0           </td><td>6        </td><td>34.0            </td><td>40                </td><td>2015.0</td><td>11.0   </td></tr>\n",
       "<tr><td>3      </td><td>30       </td><td>17887.0           </td><td>3        </td><td>34.0            </td><td>40                </td><td>2015.0</td><td>11.0   </td></tr>\n",
       "<tr><td>4      </td><td>30       </td><td>22987.0           </td><td>2        </td><td>34.0            </td><td>40                </td><td>2015.0</td><td>11.0   </td></tr>\n",
       "<tr><td>5      </td><td>30       </td><td>28087.0           </td><td>7        </td><td>34.0            </td><td>40                </td><td>2015.0</td><td>11.0   </td></tr>\n",
       "<tr><td>6      </td><td>30       </td><td>33187.0           </td><td>10       </td><td>34.0            </td><td>40                </td><td>2015.0</td><td>11.0   </td></tr>\n",
       "<tr><td>7      </td><td>30       </td><td>38287.0           </td><td>12       </td><td>34.0            </td><td>40                </td><td>2015.0</td><td>11.0   </td></tr>\n",
       "<tr><td>8      </td><td>30       </td><td>43387.0           </td><td>28       </td><td>34.0            </td><td>40                </td><td>2015.0</td><td>11.0   </td></tr>\n",
       "<tr><td>9      </td><td>30       </td><td>48487.0           </td><td>31       </td><td>34.0            </td><td>40                </td><td>2015.0</td><td>11.0   </td></tr>\n",
       "</tbody>\n",
       "</table>"
      ]
     },
     "metadata": {},
     "output_type": "display_data"
    }
   ],
   "source": [
    "test_df[\"date_block_num\"] = 34\n",
    "\n",
    "test_df = test_df.merge(items_df[[\"item_id\", \"item_category_id\"]],\n",
    "                        all_x=True,\n",
    "                        all_y=False,\n",
    "                        by_x=[\"item_id\"],\n",
    "                        by_y=[\"item_id\"])\n",
    "\n",
    "# test_df = test_df.merge(categories_df,\n",
    "#                         all_x=True,\n",
    "#                         all_y=False,\n",
    "#                         by_x=[\"item_category_id\"],\n",
    "#                         by_y=[\"item_category_id\"])\n",
    "\n",
    "# test_df = test_df.merge(shops_df,\n",
    "#                         all_x=True,\n",
    "#                         all_y=False,\n",
    "#                         by_x=[\"shop_id\"],\n",
    "#                         by_y=[\"shop_id\"])\n",
    "\n",
    "test_df[\"year\"] = 2015\n",
    "test_df[\"month\"] = 11\n",
    "\n",
    "for col in categoricals:\n",
    "    test_df[col] = test_df[col].asfactor()\n",
    "\n",
    "test_df.summary()"
   ]
  },
  {
   "cell_type": "markdown",
   "metadata": {
    "ExecuteTime": {
     "end_time": "2020-08-05T02:46:44.985083Z",
     "start_time": "2020-08-05T02:46:38.326426Z"
    }
   },
   "source": [
    "## Model"
   ]
  },
  {
   "cell_type": "code",
   "execution_count": 48,
   "metadata": {
    "ExecuteTime": {
     "end_time": "2020-08-26T00:10:17.113827Z",
     "start_time": "2020-08-26T00:05:05.737706Z"
    },
    "scrolled": true
   },
   "outputs": [
    {
     "name": "stdout",
     "output_type": "stream",
     "text": [
      "AutoML progress: |████████████████████████████████████████████████████████| 100%\n"
     ]
    }
   ],
   "source": [
    "from h2o.automl import H2OAutoML\n",
    "\n",
    "# Define label and predictors\n",
    "y = \"item_cnt_day\"\n",
    "x = [\n",
    "    \"shop_id\", \"item_category_id\", \"item_id\", \"date_block_num\", \n",
    "    \"year\", \"month\"\n",
    "]\n",
    "\n",
    "aml = H2OAutoML(max_runtime_secs=300, max_models=50)\n",
    "aml.train(x, y, train_df)"
   ]
  },
  {
   "cell_type": "markdown",
   "metadata": {},
   "source": [
    "## Evaluation"
   ]
  },
  {
   "cell_type": "code",
   "execution_count": 49,
   "metadata": {
    "ExecuteTime": {
     "end_time": "2020-08-26T00:10:17.125431Z",
     "start_time": "2020-08-26T00:10:17.115807Z"
    },
    "scrolled": true
   },
   "outputs": [
    {
     "data": {
      "text/html": [
       "<table>\n",
       "<thead>\n",
       "<tr><th>model_id                                           </th><th style=\"text-align: right;\">  mean_residual_deviance</th><th style=\"text-align: right;\">   rmse</th><th style=\"text-align: right;\">    mse</th><th style=\"text-align: right;\">     mae</th><th style=\"text-align: right;\">  rmsle</th></tr>\n",
       "</thead>\n",
       "<tbody>\n",
       "<tr><td>StackedEnsemble_AllModels_AutoML_20200825_210505   </td><td style=\"text-align: right;\">                 5.81809</td><td style=\"text-align: right;\">2.41207</td><td style=\"text-align: right;\">5.81809</td><td style=\"text-align: right;\">0.32003 </td><td style=\"text-align: right;\">    nan</td></tr>\n",
       "<tr><td>StackedEnsemble_BestOfFamily_AutoML_20200825_210505</td><td style=\"text-align: right;\">                 5.85967</td><td style=\"text-align: right;\">2.42068</td><td style=\"text-align: right;\">5.85967</td><td style=\"text-align: right;\">0.327847</td><td style=\"text-align: right;\">    nan</td></tr>\n",
       "<tr><td>DRF_1_AutoML_20200825_210505                       </td><td style=\"text-align: right;\">                 6.13616</td><td style=\"text-align: right;\">2.47713</td><td style=\"text-align: right;\">6.13616</td><td style=\"text-align: right;\">0.315227</td><td style=\"text-align: right;\">    nan</td></tr>\n",
       "<tr><td>GBM_2_AutoML_20200825_210505                       </td><td style=\"text-align: right;\">                 6.43498</td><td style=\"text-align: right;\">2.53673</td><td style=\"text-align: right;\">6.43498</td><td style=\"text-align: right;\">0.407291</td><td style=\"text-align: right;\">    nan</td></tr>\n",
       "<tr><td>GBM_4_AutoML_20200825_210505                       </td><td style=\"text-align: right;\">                 6.47658</td><td style=\"text-align: right;\">2.54491</td><td style=\"text-align: right;\">6.47658</td><td style=\"text-align: right;\">0.406695</td><td style=\"text-align: right;\">    nan</td></tr>\n",
       "<tr><td>GBM_1_AutoML_20200825_210505                       </td><td style=\"text-align: right;\">                 6.53394</td><td style=\"text-align: right;\">2.55616</td><td style=\"text-align: right;\">6.53394</td><td style=\"text-align: right;\">0.416496</td><td style=\"text-align: right;\">    nan</td></tr>\n",
       "<tr><td>GBM_3_AutoML_20200825_210505                       </td><td style=\"text-align: right;\">                 6.55081</td><td style=\"text-align: right;\">2.55945</td><td style=\"text-align: right;\">6.55081</td><td style=\"text-align: right;\">0.409306</td><td style=\"text-align: right;\">    nan</td></tr>\n",
       "<tr><td>GBM_5_AutoML_20200825_210505                       </td><td style=\"text-align: right;\">                 6.5568 </td><td style=\"text-align: right;\">2.56062</td><td style=\"text-align: right;\">6.5568 </td><td style=\"text-align: right;\">0.411699</td><td style=\"text-align: right;\">    nan</td></tr>\n",
       "<tr><td>XGBoost_2_AutoML_20200825_210505                   </td><td style=\"text-align: right;\">                 6.71407</td><td style=\"text-align: right;\">2.59115</td><td style=\"text-align: right;\">6.71407</td><td style=\"text-align: right;\">0.537014</td><td style=\"text-align: right;\">    nan</td></tr>\n",
       "<tr><td>GLM_1_AutoML_20200825_210505                       </td><td style=\"text-align: right;\">                 6.75909</td><td style=\"text-align: right;\">2.59983</td><td style=\"text-align: right;\">6.75909</td><td style=\"text-align: right;\">0.422859</td><td style=\"text-align: right;\">    nan</td></tr>\n",
       "</tbody>\n",
       "</table>"
      ]
     },
     "metadata": {},
     "output_type": "display_data"
    },
    {
     "data": {
      "text/plain": []
     },
     "execution_count": 49,
     "metadata": {},
     "output_type": "execute_result"
    }
   ],
   "source": [
    "aml.leaderboard"
   ]
  },
  {
   "cell_type": "code",
   "execution_count": null,
   "metadata": {
    "ExecuteTime": {
     "end_time": "2020-08-24T12:13:33.831114Z",
     "start_time": "2020-08-23T23:52:16.396Z"
    }
   },
   "outputs": [],
   "source": [
    "predictions = aml.predict(test_df[x])\n",
    "predictions.head(5)"
   ]
  },
  {
   "cell_type": "code",
   "execution_count": null,
   "metadata": {
    "ExecuteTime": {
     "end_time": "2020-08-24T12:13:33.832490Z",
     "start_time": "2020-08-23T23:52:16.397Z"
    },
    "scrolled": true
   },
   "outputs": [],
   "source": [
    "predictions.as_data_frame()[\"predict\"]"
   ]
  },
  {
   "cell_type": "code",
   "execution_count": null,
   "metadata": {
    "ExecuteTime": {
     "end_time": "2020-08-24T12:13:33.833402Z",
     "start_time": "2020-08-23T23:52:16.399Z"
    }
   },
   "outputs": [],
   "source": [
    "test_df.head()"
   ]
  },
  {
   "cell_type": "code",
   "execution_count": null,
   "metadata": {
    "ExecuteTime": {
     "end_time": "2020-08-24T12:13:33.834970Z",
     "start_time": "2020-08-23T23:52:16.402Z"
    },
    "scrolled": true
   },
   "outputs": [],
   "source": [
    "submission = test_df.concat(predictions)\n",
    "submission[\"predict\"] = submission[\"predict\"].round()\n",
    "submission[submission[\"predict\"]>20, \"predict\"] = 20\n",
    "submission[submission[\"predict\"]<0, \"predict\"] = 0\n",
    "submission.summary()"
   ]
  },
  {
   "cell_type": "code",
   "execution_count": null,
   "metadata": {
    "ExecuteTime": {
     "end_time": "2020-08-24T12:13:33.836577Z",
     "start_time": "2020-08-23T23:52:16.403Z"
    }
   },
   "outputs": [],
   "source": [
    "submission.rename({\"predict\":\"item_cnt_month\"})\n",
    "file = str(Path(PATH, \"notebooks/submission.csv\"))\n",
    "h2o.export_file(submission[[\"ID\", \"item_cnt_month\"]],\n",
    "                file,\n",
    "                force=True)"
   ]
  },
  {
   "cell_type": "code",
   "execution_count": null,
   "metadata": {
    "ExecuteTime": {
     "end_time": "2020-08-24T12:13:33.837554Z",
     "start_time": "2020-08-23T23:52:16.404Z"
    }
   },
   "outputs": [],
   "source": [
    "!kaggle competitions submit -c competitive-data-science-predict-future-sales -f submission.csv -m \"h2o_automl\""
   ]
  },
  {
   "cell_type": "code",
   "execution_count": null,
   "metadata": {},
   "outputs": [],
   "source": []
  }
 ],
 "metadata": {
  "kernelspec": {
   "display_name": "Python 3",
   "language": "python",
   "name": "python3"
  },
  "language_info": {
   "codemirror_mode": {
    "name": "ipython",
    "version": 3
   },
   "file_extension": ".py",
   "mimetype": "text/x-python",
   "name": "python",
   "nbconvert_exporter": "python",
   "pygments_lexer": "ipython3",
   "version": "3.7.8"
  },
  "toc": {
   "base_numbering": 1,
   "nav_menu": {},
   "number_sections": true,
   "sideBar": true,
   "skip_h1_title": false,
   "title_cell": "Table of Contents",
   "title_sidebar": "Contents",
   "toc_cell": false,
   "toc_position": {},
   "toc_section_display": true,
   "toc_window_display": false
  }
 },
 "nbformat": 4,
 "nbformat_minor": 4
}
