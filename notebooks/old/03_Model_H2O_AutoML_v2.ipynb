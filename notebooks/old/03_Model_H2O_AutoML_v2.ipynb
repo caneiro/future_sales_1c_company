{
 "cells": [
  {
   "cell_type": "markdown",
   "metadata": {
    "ExecuteTime": {
     "end_time": "2020-08-05T00:21:42.525077Z",
     "start_time": "2020-08-05T00:21:42.521233Z"
    }
   },
   "source": [
    "# Predict Future Sale - Baseline\n",
    "## Final project for \"How to win a data science competition\" Coursera course\n",
    "https://www.kaggle.com/c/competitive-data-science-predict-future-sales/data  \n",
    ">Student: Rafael Caneiro de Oliveira  \n",
    ">Email: rafael.caneiro@gmail.com  \n",
    ">Date: 04/08/2020"
   ]
  },
  {
   "cell_type": "markdown",
   "metadata": {},
   "source": [
    "## Load the data"
   ]
  },
  {
   "cell_type": "code",
   "execution_count": 1,
   "metadata": {
    "ExecuteTime": {
     "end_time": "2020-08-23T20:18:44.446149Z",
     "start_time": "2020-08-23T20:18:43.827822Z"
    }
   },
   "outputs": [],
   "source": [
    "import numpy as np\n",
    "import pandas as pd\n",
    "\n",
    "from pathlib import Path\n",
    "\n",
    "PATH = Path.cwd().parent\n",
    "DATA_PATH = Path(PATH, \"./data/raw/\") "
   ]
  },
  {
   "cell_type": "code",
   "execution_count": 2,
   "metadata": {
    "ExecuteTime": {
     "end_time": "2020-08-23T20:18:44.734266Z",
     "start_time": "2020-08-23T20:18:44.448005Z"
    },
    "scrolled": true
   },
   "outputs": [
    {
     "name": "stdout",
     "output_type": "stream",
     "text": [
      "Checking whether there is an H2O instance running at http://localhost:54321 . connected.\n"
     ]
    },
    {
     "data": {
      "text/html": [
       "<div style=\"overflow:auto\"><table style=\"width:50%\"><tr><td>H2O_cluster_uptime:</td>\n",
       "<td>14 secs</td></tr>\n",
       "<tr><td>H2O_cluster_timezone:</td>\n",
       "<td>America/Sao_Paulo</td></tr>\n",
       "<tr><td>H2O_data_parsing_timezone:</td>\n",
       "<td>UTC</td></tr>\n",
       "<tr><td>H2O_cluster_version:</td>\n",
       "<td>3.30.1.1</td></tr>\n",
       "<tr><td>H2O_cluster_version_age:</td>\n",
       "<td>13 days </td></tr>\n",
       "<tr><td>H2O_cluster_name:</td>\n",
       "<td>rco</td></tr>\n",
       "<tr><td>H2O_cluster_total_nodes:</td>\n",
       "<td>1</td></tr>\n",
       "<tr><td>H2O_cluster_free_memory:</td>\n",
       "<td>5.325 Gb</td></tr>\n",
       "<tr><td>H2O_cluster_total_cores:</td>\n",
       "<td>16</td></tr>\n",
       "<tr><td>H2O_cluster_allowed_cores:</td>\n",
       "<td>12</td></tr>\n",
       "<tr><td>H2O_cluster_status:</td>\n",
       "<td>locked, healthy</td></tr>\n",
       "<tr><td>H2O_connection_url:</td>\n",
       "<td>http://localhost:54321</td></tr>\n",
       "<tr><td>H2O_connection_proxy:</td>\n",
       "<td>{\"http\": null, \"https\": null}</td></tr>\n",
       "<tr><td>H2O_internal_security:</td>\n",
       "<td>False</td></tr>\n",
       "<tr><td>H2O_API_Extensions:</td>\n",
       "<td>Amazon S3, XGBoost, Algos, AutoML, Core V3, TargetEncoder, Core V4</td></tr>\n",
       "<tr><td>Python_version:</td>\n",
       "<td>3.8.3 final</td></tr></table></div>"
      ],
      "text/plain": [
       "--------------------------  ------------------------------------------------------------------\n",
       "H2O_cluster_uptime:         14 secs\n",
       "H2O_cluster_timezone:       America/Sao_Paulo\n",
       "H2O_data_parsing_timezone:  UTC\n",
       "H2O_cluster_version:        3.30.1.1\n",
       "H2O_cluster_version_age:    13 days\n",
       "H2O_cluster_name:           rco\n",
       "H2O_cluster_total_nodes:    1\n",
       "H2O_cluster_free_memory:    5.325 Gb\n",
       "H2O_cluster_total_cores:    16\n",
       "H2O_cluster_allowed_cores:  12\n",
       "H2O_cluster_status:         locked, healthy\n",
       "H2O_connection_url:         http://localhost:54321\n",
       "H2O_connection_proxy:       {\"http\": null, \"https\": null}\n",
       "H2O_internal_security:      False\n",
       "H2O_API_Extensions:         Amazon S3, XGBoost, Algos, AutoML, Core V3, TargetEncoder, Core V4\n",
       "Python_version:             3.8.3 final\n",
       "--------------------------  ------------------------------------------------------------------"
      ]
     },
     "metadata": {},
     "output_type": "display_data"
    }
   ],
   "source": [
    "import h2o\n",
    "h2o.init()"
   ]
  },
  {
   "cell_type": "code",
   "execution_count": 8,
   "metadata": {
    "ExecuteTime": {
     "end_time": "2020-08-23T20:19:47.608915Z",
     "start_time": "2020-08-23T20:19:41.223462Z"
    },
    "scrolled": false
   },
   "outputs": [
    {
     "name": "stdout",
     "output_type": "stream",
     "text": [
      "Parse progress: |█████████████████████████████████████████████████████████| 100%\n",
      "Parse progress: |█████████████████████████████████████████████████████████| 100%\n",
      "Parse progress: |█████████████████████████████████████████████████████████| 100%\n",
      "Parse progress: |█████████████████████████████████████████████████████████| 100%\n",
      "Parse progress: |█████████████████████████████████████████████████████████| 100%\n",
      "(2935849, 6)\n",
      "(2935849, 10)\n"
     ]
    },
    {
     "data": {
      "text/html": [
       "<table>\n",
       "<thead>\n",
       "<tr><th style=\"text-align: right;\">  shop_id</th><th style=\"text-align: right;\">  item_category_id</th><th style=\"text-align: right;\">  item_id</th><th>date      </th><th style=\"text-align: right;\">  date_block_num</th><th style=\"text-align: right;\">  item_price</th><th style=\"text-align: right;\">  item_cnt_day</th><th>item_name                                                                    </th><th>item_category_name     </th><th>shop_name                    </th></tr>\n",
       "</thead>\n",
       "<tbody>\n",
       "<tr><td style=\"text-align: right;\">        0</td><td style=\"text-align: right;\">                 0</td><td style=\"text-align: right;\">    16255</td><td>28.02.2013</td><td style=\"text-align: right;\">               1</td><td style=\"text-align: right;\">          93</td><td style=\"text-align: right;\">             1</td><td>Наушники PHILIPS SBC HC8680                                                  </td><td>PC - Гарнитуры/Наушники</td><td>!Якутск Орджоникидзе, 56 фран</td></tr>\n",
       "<tr><td style=\"text-align: right;\">        0</td><td style=\"text-align: right;\">                 1</td><td style=\"text-align: right;\">     5740</td><td>20.02.2013</td><td style=\"text-align: right;\">               1</td><td style=\"text-align: right;\">         283</td><td style=\"text-align: right;\">             1</td><td>Pelican. Геймпад Nerf Wireless Controller PS2 (assorted colors)              </td><td>Аксессуары - PS2       </td><td>!Якутск Орджоникидзе, 56 фран</td></tr>\n",
       "<tr><td style=\"text-align: right;\">        0</td><td style=\"text-align: right;\">                 2</td><td style=\"text-align: right;\">     5570</td><td>28.02.2013</td><td style=\"text-align: right;\">               1</td><td style=\"text-align: right;\">          93</td><td style=\"text-align: right;\">             1</td><td>PS Move Controller (Контроллер движений)                                     </td><td>Аксессуары - PS3       </td><td>!Якутск Орджоникидзе, 56 фран</td></tr>\n",
       "<tr><td style=\"text-align: right;\">        0</td><td style=\"text-align: right;\">                 2</td><td style=\"text-align: right;\">     5572</td><td>04.01.2013</td><td style=\"text-align: right;\">               0</td><td style=\"text-align: right;\">        1322</td><td style=\"text-align: right;\">             3</td><td>PS Move Motion Controller (Контроллер движений PS Move : CECH-ZCM1R BX: SCEE)</td><td>Аксессуары - PS3       </td><td>!Якутск Орджоникидзе, 56 фран</td></tr>\n",
       "<tr><td style=\"text-align: right;\">        0</td><td style=\"text-align: right;\">                 2</td><td style=\"text-align: right;\">     5572</td><td>05.01.2013</td><td style=\"text-align: right;\">               0</td><td style=\"text-align: right;\">        1322</td><td style=\"text-align: right;\">             2</td><td>PS Move Motion Controller (Контроллер движений PS Move : CECH-ZCM1R BX: SCEE)</td><td>Аксессуары - PS3       </td><td>!Якутск Орджоникидзе, 56 фран</td></tr>\n",
       "</tbody>\n",
       "</table>"
      ]
     },
     "metadata": {},
     "output_type": "display_data"
    },
    {
     "data": {
      "text/plain": []
     },
     "execution_count": 8,
     "metadata": {},
     "output_type": "execute_result"
    }
   ],
   "source": [
    "sales_train_df = h2o.import_file(Path(DATA_PATH,\"sales_train.csv\").as_uri())\n",
    "test_df = h2o.import_file(Path(DATA_PATH,\"test.csv\").as_uri())\n",
    "items_df = h2o.import_file(Path(DATA_PATH,\"items.csv\").as_uri())\n",
    "shops_df = h2o.import_file(Path(DATA_PATH,\"shops.csv\").as_uri())\n",
    "categories_df = h2o.import_file(Path(DATA_PATH,\"item_categories.csv\").as_uri())\n",
    "\n",
    "print(sales_train_df.shape)\n",
    "\n",
    "train_df = sales_train_df.merge(items_df,\n",
    "                                all_x=True,\n",
    "                                all_y=False,\n",
    "                                by_x=[\"item_id\"],\n",
    "                                by_y=[\"item_id\"])\n",
    "\n",
    "train_df = train_df.merge(categories_df,\n",
    "                          all_x=True,\n",
    "                          all_y=False,\n",
    "                          by_x=[\"item_category_id\"],\n",
    "                          by_y=[\"item_category_id\"])\n",
    "\n",
    "train_df = train_df.merge(shops_df,\n",
    "                          all_x=True,\n",
    "                          all_y=False,\n",
    "                          by_x=[\"shop_id\"],\n",
    "                          by_y=[\"shop_id\"])\n",
    "\n",
    "print(train_df.shape)\n",
    "\n",
    "train_df.head(5)"
   ]
  },
  {
   "cell_type": "code",
   "execution_count": 9,
   "metadata": {
    "ExecuteTime": {
     "end_time": "2020-08-23T20:19:50.864782Z",
     "start_time": "2020-08-23T20:19:47.610581Z"
    }
   },
   "outputs": [
    {
     "data": {
      "text/html": [
       "<table>\n",
       "<thead>\n",
       "<tr><th style=\"text-align: right;\">  shop_id</th><th style=\"text-align: right;\">  item_id</th><th style=\"text-align: right;\">  date_block_num</th><th style=\"text-align: right;\">  sum_item_cnt_day</th></tr>\n",
       "</thead>\n",
       "<tbody>\n",
       "<tr><td style=\"text-align: right;\">        0</td><td style=\"text-align: right;\">       30</td><td style=\"text-align: right;\">               1</td><td style=\"text-align: right;\">                31</td></tr>\n",
       "<tr><td style=\"text-align: right;\">        0</td><td style=\"text-align: right;\">       31</td><td style=\"text-align: right;\">               1</td><td style=\"text-align: right;\">                11</td></tr>\n",
       "<tr><td style=\"text-align: right;\">        0</td><td style=\"text-align: right;\">       32</td><td style=\"text-align: right;\">               0</td><td style=\"text-align: right;\">                 6</td></tr>\n",
       "<tr><td style=\"text-align: right;\">        0</td><td style=\"text-align: right;\">       32</td><td style=\"text-align: right;\">               1</td><td style=\"text-align: right;\">                10</td></tr>\n",
       "<tr><td style=\"text-align: right;\">        0</td><td style=\"text-align: right;\">       33</td><td style=\"text-align: right;\">               0</td><td style=\"text-align: right;\">                 3</td></tr>\n",
       "<tr><td style=\"text-align: right;\">        0</td><td style=\"text-align: right;\">       33</td><td style=\"text-align: right;\">               1</td><td style=\"text-align: right;\">                 3</td></tr>\n",
       "<tr><td style=\"text-align: right;\">        0</td><td style=\"text-align: right;\">       35</td><td style=\"text-align: right;\">               0</td><td style=\"text-align: right;\">                 1</td></tr>\n",
       "<tr><td style=\"text-align: right;\">        0</td><td style=\"text-align: right;\">       35</td><td style=\"text-align: right;\">               1</td><td style=\"text-align: right;\">                14</td></tr>\n",
       "<tr><td style=\"text-align: right;\">        0</td><td style=\"text-align: right;\">       36</td><td style=\"text-align: right;\">               1</td><td style=\"text-align: right;\">                 1</td></tr>\n",
       "<tr><td style=\"text-align: right;\">        0</td><td style=\"text-align: right;\">       40</td><td style=\"text-align: right;\">               1</td><td style=\"text-align: right;\">                 1</td></tr>\n",
       "</tbody>\n",
       "</table>"
      ]
     },
     "metadata": {},
     "output_type": "display_data"
    },
    {
     "data": {
      "text/plain": []
     },
     "execution_count": 9,
     "metadata": {},
     "output_type": "execute_result"
    }
   ],
   "source": [
    "grouped = train_df.group_by([\"shop_id\", \"item_id\", \"date_block_num\"])\n",
    "\n",
    "grouped.sum(\"item_cnt_day\")\n",
    "\n",
    "train_df = grouped.get_frame()\n",
    "\n",
    "train_df.head(5)"
   ]
  },
  {
   "cell_type": "code",
   "execution_count": 22,
   "metadata": {
    "ExecuteTime": {
     "end_time": "2020-08-23T20:27:39.612983Z",
     "start_time": "2020-08-23T20:27:39.569159Z"
    },
    "scrolled": true
   },
   "outputs": [
    {
     "data": {
      "text/html": [
       "<table>\n",
       "<thead>\n",
       "<tr><th style=\"text-align: right;\">  ID</th><th style=\"text-align: right;\">  shop_id</th><th style=\"text-align: right;\">  item_id</th><th style=\"text-align: right;\">  date_block_num</th></tr>\n",
       "</thead>\n",
       "<tbody>\n",
       "<tr><td style=\"text-align: right;\">   0</td><td style=\"text-align: right;\">        5</td><td style=\"text-align: right;\">     5037</td><td style=\"text-align: right;\">              34</td></tr>\n",
       "<tr><td style=\"text-align: right;\">   1</td><td style=\"text-align: right;\">        5</td><td style=\"text-align: right;\">     5320</td><td style=\"text-align: right;\">              34</td></tr>\n",
       "<tr><td style=\"text-align: right;\">   2</td><td style=\"text-align: right;\">        5</td><td style=\"text-align: right;\">     5233</td><td style=\"text-align: right;\">              34</td></tr>\n",
       "<tr><td style=\"text-align: right;\">   3</td><td style=\"text-align: right;\">        5</td><td style=\"text-align: right;\">     5232</td><td style=\"text-align: right;\">              34</td></tr>\n",
       "<tr><td style=\"text-align: right;\">   4</td><td style=\"text-align: right;\">        5</td><td style=\"text-align: right;\">     5268</td><td style=\"text-align: right;\">              34</td></tr>\n",
       "</tbody>\n",
       "</table>"
      ]
     },
     "metadata": {},
     "output_type": "display_data"
    },
    {
     "data": {
      "text/plain": []
     },
     "execution_count": 22,
     "metadata": {},
     "output_type": "execute_result"
    }
   ],
   "source": [
    "test_df[\"date_block_num\"] = 34\n",
    "test_df.head(5)"
   ]
  },
  {
   "cell_type": "markdown",
   "metadata": {
    "ExecuteTime": {
     "end_time": "2020-08-05T02:46:44.985083Z",
     "start_time": "2020-08-05T02:46:38.326426Z"
    }
   },
   "source": [
    "## Model"
   ]
  },
  {
   "cell_type": "code",
   "execution_count": 18,
   "metadata": {
    "ExecuteTime": {
     "end_time": "2020-08-23T20:21:56.953917Z",
     "start_time": "2020-08-23T20:21:56.944936Z"
    }
   },
   "outputs": [],
   "source": [
    "from h2o.automl import H2OAutoML\n",
    "\n",
    "# Define label and predictors\n",
    "y = \"sum_item_cnt_day\"\n",
    "x = [\"shop_id\", \"item_id\", \"date_block_num\"]\n",
    "\n",
    "aml = H2OAutoML(seed=42, max_runtime_secs=300)"
   ]
  },
  {
   "cell_type": "code",
   "execution_count": 19,
   "metadata": {
    "ExecuteTime": {
     "end_time": "2020-08-23T20:26:53.045784Z",
     "start_time": "2020-08-23T20:21:57.841676Z"
    },
    "scrolled": true
   },
   "outputs": [
    {
     "name": "stdout",
     "output_type": "stream",
     "text": [
      "AutoML progress: |████████████████████████████████████████████████████████| 100%\n"
     ]
    }
   ],
   "source": [
    "aml.train(x, y, train_df)"
   ]
  },
  {
   "cell_type": "markdown",
   "metadata": {},
   "source": [
    "## Evaluation"
   ]
  },
  {
   "cell_type": "code",
   "execution_count": 20,
   "metadata": {
    "ExecuteTime": {
     "end_time": "2020-08-23T20:27:03.461275Z",
     "start_time": "2020-08-23T20:27:03.447336Z"
    }
   },
   "outputs": [
    {
     "data": {
      "text/html": [
       "<table>\n",
       "<thead>\n",
       "<tr><th>model_id                                           </th><th style=\"text-align: right;\">  mean_residual_deviance</th><th style=\"text-align: right;\">   rmse</th><th style=\"text-align: right;\">    mse</th><th style=\"text-align: right;\">    mae</th><th style=\"text-align: right;\">  rmsle</th></tr>\n",
       "</thead>\n",
       "<tbody>\n",
       "<tr><td>StackedEnsemble_AllModels_AutoML_20200823_172157   </td><td style=\"text-align: right;\">                 34.3722</td><td style=\"text-align: right;\">5.86278</td><td style=\"text-align: right;\">34.3722</td><td style=\"text-align: right;\">1.38908</td><td style=\"text-align: right;\">    nan</td></tr>\n",
       "<tr><td>StackedEnsemble_BestOfFamily_AutoML_20200823_172157</td><td style=\"text-align: right;\">                 35.5556</td><td style=\"text-align: right;\">5.96285</td><td style=\"text-align: right;\">35.5556</td><td style=\"text-align: right;\">1.41175</td><td style=\"text-align: right;\">    nan</td></tr>\n",
       "<tr><td>XGBoost_grid__1_AutoML_20200823_172157_model_1     </td><td style=\"text-align: right;\">                 40.9846</td><td style=\"text-align: right;\">6.40192</td><td style=\"text-align: right;\">40.9846</td><td style=\"text-align: right;\">1.46532</td><td style=\"text-align: right;\">    nan</td></tr>\n",
       "<tr><td>DRF_1_AutoML_20200823_172157                       </td><td style=\"text-align: right;\">                 44.9271</td><td style=\"text-align: right;\">6.70277</td><td style=\"text-align: right;\">44.9271</td><td style=\"text-align: right;\">1.48288</td><td style=\"text-align: right;\">    nan</td></tr>\n",
       "<tr><td>XRT_1_AutoML_20200823_172157                       </td><td style=\"text-align: right;\">                 51.3611</td><td style=\"text-align: right;\">7.16666</td><td style=\"text-align: right;\">51.3611</td><td style=\"text-align: right;\">1.53262</td><td style=\"text-align: right;\">    nan</td></tr>\n",
       "<tr><td>XGBoost_3_AutoML_20200823_172157                   </td><td style=\"text-align: right;\">                 53.7454</td><td style=\"text-align: right;\">7.33113</td><td style=\"text-align: right;\">53.7454</td><td style=\"text-align: right;\">1.52853</td><td style=\"text-align: right;\">    nan</td></tr>\n",
       "<tr><td>XGBoost_1_AutoML_20200823_172157                   </td><td style=\"text-align: right;\">                 54.1992</td><td style=\"text-align: right;\">7.36201</td><td style=\"text-align: right;\">54.1992</td><td style=\"text-align: right;\">1.35269</td><td style=\"text-align: right;\">    nan</td></tr>\n",
       "<tr><td>GBM_4_AutoML_20200823_172157                       </td><td style=\"text-align: right;\">                 54.4278</td><td style=\"text-align: right;\">7.37752</td><td style=\"text-align: right;\">54.4278</td><td style=\"text-align: right;\">1.6153 </td><td style=\"text-align: right;\">    nan</td></tr>\n",
       "<tr><td>GBM_grid__1_AutoML_20200823_172157_model_2         </td><td style=\"text-align: right;\">                 56.6017</td><td style=\"text-align: right;\">7.52341</td><td style=\"text-align: right;\">56.6017</td><td style=\"text-align: right;\">1.50821</td><td style=\"text-align: right;\">    nan</td></tr>\n",
       "<tr><td>GBM_3_AutoML_20200823_172157                       </td><td style=\"text-align: right;\">                 57.4492</td><td style=\"text-align: right;\">7.57952</td><td style=\"text-align: right;\">57.4492</td><td style=\"text-align: right;\">1.63904</td><td style=\"text-align: right;\">    nan</td></tr>\n",
       "</tbody>\n",
       "</table>"
      ]
     },
     "metadata": {},
     "output_type": "display_data"
    },
    {
     "data": {
      "text/plain": []
     },
     "execution_count": 20,
     "metadata": {},
     "output_type": "execute_result"
    }
   ],
   "source": [
    "aml.leaderboard"
   ]
  },
  {
   "cell_type": "code",
   "execution_count": 23,
   "metadata": {
    "ExecuteTime": {
     "end_time": "2020-08-23T20:27:42.726199Z",
     "start_time": "2020-08-23T20:27:42.449714Z"
    }
   },
   "outputs": [
    {
     "name": "stdout",
     "output_type": "stream",
     "text": [
      "stackedensemble prediction progress: |████████████████████████████████████| 100%\n"
     ]
    },
    {
     "data": {
      "text/html": [
       "<table>\n",
       "<thead>\n",
       "<tr><th style=\"text-align: right;\">  predict</th></tr>\n",
       "</thead>\n",
       "<tbody>\n",
       "<tr><td style=\"text-align: right;\">  1.36885</td></tr>\n",
       "<tr><td style=\"text-align: right;\">  1.26437</td></tr>\n",
       "<tr><td style=\"text-align: right;\">  1.26437</td></tr>\n",
       "<tr><td style=\"text-align: right;\">  1.26437</td></tr>\n",
       "<tr><td style=\"text-align: right;\">  1.26437</td></tr>\n",
       "</tbody>\n",
       "</table>"
      ]
     },
     "metadata": {},
     "output_type": "display_data"
    },
    {
     "data": {
      "text/plain": []
     },
     "execution_count": 23,
     "metadata": {},
     "output_type": "execute_result"
    }
   ],
   "source": [
    "predictions = aml.predict(test_df[x])\n",
    "predictions.head(5)"
   ]
  },
  {
   "cell_type": "code",
   "execution_count": 24,
   "metadata": {
    "ExecuteTime": {
     "end_time": "2020-08-23T20:27:48.618990Z",
     "start_time": "2020-08-23T20:27:48.313758Z"
    },
    "scrolled": true
   },
   "outputs": [
    {
     "data": {
      "text/plain": [
       "0         1.368850\n",
       "1         1.264367\n",
       "2         1.264367\n",
       "3         1.264367\n",
       "4         1.264367\n",
       "            ...   \n",
       "214195    0.957166\n",
       "214196    1.159826\n",
       "214197    1.097405\n",
       "214198    0.791951\n",
       "214199    0.625960\n",
       "Name: predict, Length: 214200, dtype: float64"
      ]
     },
     "execution_count": 24,
     "metadata": {},
     "output_type": "execute_result"
    }
   ],
   "source": [
    "predictions.as_data_frame()[\"predict\"]"
   ]
  },
  {
   "cell_type": "code",
   "execution_count": 26,
   "metadata": {
    "ExecuteTime": {
     "end_time": "2020-08-23T20:27:59.571451Z",
     "start_time": "2020-08-23T20:27:59.393484Z"
    },
    "scrolled": true
   },
   "outputs": [
    {
     "data": {
      "text/html": [
       "<table>\n",
       "<thead>\n",
       "<tr><th>       </th><th>ID               </th><th>shop_id          </th><th>item_id          </th><th>date_block_num  </th><th>predict           </th></tr>\n",
       "</thead>\n",
       "<tbody>\n",
       "<tr><td>type   </td><td>int              </td><td>int              </td><td>int              </td><td>int             </td><td>int               </td></tr>\n",
       "<tr><td>mins   </td><td>0.0              </td><td>2.0              </td><td>30.0             </td><td>34.0            </td><td>0.0               </td></tr>\n",
       "<tr><td>mean   </td><td>107099.5         </td><td>31.64285714285714</td><td>11019.39862745098</td><td>34.0            </td><td>1.664743230625584 </td></tr>\n",
       "<tr><td>maxs   </td><td>214199.0         </td><td>59.0             </td><td>22167.0          </td><td>34.0            </td><td>20.0              </td></tr>\n",
       "<tr><td>sigma  </td><td>61834.35816760776</td><td>17.56193348989602</td><td>6252.644589940324</td><td>0.0             </td><td>1.6699202549371641</td></tr>\n",
       "<tr><td>zeros  </td><td>1                </td><td>0                </td><td>0                </td><td>0               </td><td>4961              </td></tr>\n",
       "<tr><td>missing</td><td>0                </td><td>0                </td><td>0                </td><td>0               </td><td>0                 </td></tr>\n",
       "<tr><td>0      </td><td>0.0              </td><td>5.0              </td><td>5037.0           </td><td>34.0            </td><td>1.0               </td></tr>\n",
       "<tr><td>1      </td><td>1.0              </td><td>5.0              </td><td>5320.0           </td><td>34.0            </td><td>1.0               </td></tr>\n",
       "<tr><td>2      </td><td>2.0              </td><td>5.0              </td><td>5233.0           </td><td>34.0            </td><td>1.0               </td></tr>\n",
       "<tr><td>3      </td><td>3.0              </td><td>5.0              </td><td>5232.0           </td><td>34.0            </td><td>1.0               </td></tr>\n",
       "<tr><td>4      </td><td>4.0              </td><td>5.0              </td><td>5268.0           </td><td>34.0            </td><td>1.0               </td></tr>\n",
       "<tr><td>5      </td><td>5.0              </td><td>5.0              </td><td>5039.0           </td><td>34.0            </td><td>1.0               </td></tr>\n",
       "<tr><td>6      </td><td>6.0              </td><td>5.0              </td><td>5041.0           </td><td>34.0            </td><td>1.0               </td></tr>\n",
       "<tr><td>7      </td><td>7.0              </td><td>5.0              </td><td>5046.0           </td><td>34.0            </td><td>1.0               </td></tr>\n",
       "<tr><td>8      </td><td>8.0              </td><td>5.0              </td><td>5319.0           </td><td>34.0            </td><td>1.0               </td></tr>\n",
       "<tr><td>9      </td><td>9.0              </td><td>5.0              </td><td>5003.0           </td><td>34.0            </td><td>1.0               </td></tr>\n",
       "</tbody>\n",
       "</table>"
      ]
     },
     "metadata": {},
     "output_type": "display_data"
    }
   ],
   "source": [
    "submission = test_df.concat(predictions)\n",
    "submission[\"predict\"] = submission[\"predict\"].round()\n",
    "submission[submission[\"predict\"]>20, \"predict\"] = 20\n",
    "submission[submission[\"predict\"]<0, \"predict\"] = 0\n",
    "submission.summary()"
   ]
  },
  {
   "cell_type": "code",
   "execution_count": 27,
   "metadata": {
    "ExecuteTime": {
     "end_time": "2020-08-23T20:28:04.369522Z",
     "start_time": "2020-08-23T20:28:03.709188Z"
    }
   },
   "outputs": [
    {
     "name": "stdout",
     "output_type": "stream",
     "text": [
      "Export File progress: |███████████████████████████████████████████████████| 100%\n"
     ]
    }
   ],
   "source": [
    "submission.rename({\"predict\":\"item_cnt_month\"})\n",
    "file = str(Path(PATH, \"notebooks/submission.csv\"))\n",
    "h2o.export_file(submission[[\"ID\", \"item_cnt_month\"]],\n",
    "                file,\n",
    "                force=True)"
   ]
  },
  {
   "cell_type": "code",
   "execution_count": 28,
   "metadata": {
    "ExecuteTime": {
     "end_time": "2020-08-23T20:28:14.476973Z",
     "start_time": "2020-08-23T20:28:06.301928Z"
    }
   },
   "outputs": [
    {
     "name": "stdout",
     "output_type": "stream",
     "text": [
      "100%|███████████████████████████████████████| 1.73M/1.73M [00:06<00:00, 280kB/s]\n",
      "Successfully submitted to Predict Future Sales"
     ]
    }
   ],
   "source": [
    "!kaggle competitions submit -c competitive-data-science-predict-future-sales -f submission.csv -m \"h2o_automl\""
   ]
  },
  {
   "cell_type": "code",
   "execution_count": null,
   "metadata": {},
   "outputs": [],
   "source": []
  }
 ],
 "metadata": {
  "kernelspec": {
   "display_name": "Python 3",
   "language": "python",
   "name": "python3"
  },
  "language_info": {
   "codemirror_mode": {
    "name": "ipython",
    "version": 3
   },
   "file_extension": ".py",
   "mimetype": "text/x-python",
   "name": "python",
   "nbconvert_exporter": "python",
   "pygments_lexer": "ipython3",
   "version": "3.8.3"
  },
  "toc": {
   "base_numbering": 1,
   "nav_menu": {},
   "number_sections": true,
   "sideBar": true,
   "skip_h1_title": false,
   "title_cell": "Table of Contents",
   "title_sidebar": "Contents",
   "toc_cell": false,
   "toc_position": {},
   "toc_section_display": true,
   "toc_window_display": false
  }
 },
 "nbformat": 4,
 "nbformat_minor": 4
}
