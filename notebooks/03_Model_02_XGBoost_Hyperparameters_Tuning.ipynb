{
 "cells": [
  {
   "cell_type": "markdown",
   "metadata": {
    "ExecuteTime": {
     "end_time": "2020-08-05T00:21:42.525077Z",
     "start_time": "2020-08-05T00:21:42.521233Z"
    }
   },
   "source": [
    "# Predict Future Sale - Baseline\n",
    "## Final project for \"How to win a data science competition\" Coursera course\n",
    "https://www.kaggle.com/c/competitive-data-science-predict-future-sales/data  \n",
    ">Student: Rafael Caneiro de Oliveira  \n",
    ">Email: rafael.caneiro@gmail.com  \n",
    ">Date: 04/08/2020"
   ]
  },
  {
   "cell_type": "markdown",
   "metadata": {},
   "source": [
    "## Load"
   ]
  },
  {
   "cell_type": "code",
   "execution_count": 8,
   "metadata": {
    "ExecuteTime": {
     "end_time": "2020-10-06T00:40:39.347141Z",
     "start_time": "2020-10-06T00:40:39.338576Z"
    }
   },
   "outputs": [],
   "source": [
    "import numpy as np\n",
    "import pandas as pd\n",
    "from itertools import product\n",
    "\n",
    "from pathlib import Path\n",
    "\n",
    "PATH = Path.cwd().parent\n",
    "DATA_PATH = Path(PATH, \"./data/raw/\") \n",
    "MODEL_PATH = Path(PATH, \"./models/\") "
   ]
  },
  {
   "cell_type": "code",
   "execution_count": 9,
   "metadata": {
    "ExecuteTime": {
     "end_time": "2020-10-06T00:40:41.105228Z",
     "start_time": "2020-10-06T00:40:39.350072Z"
    }
   },
   "outputs": [],
   "source": [
    "sales = pd.read_csv(Path(DATA_PATH,\"sales_train.csv\"))\n",
    "items = pd.read_csv(Path(DATA_PATH,\"items.csv\"))\n",
    "categories = pd.read_csv(Path(DATA_PATH,\"item_categories.csv\"))\n",
    "shops = pd.read_csv(Path(DATA_PATH,\"shops.csv\"))\n",
    "test = pd.read_csv(Path(DATA_PATH,\"test.csv\"))\n",
    "test[\"date_block_num\"]=34"
   ]
  },
  {
   "cell_type": "markdown",
   "metadata": {},
   "source": [
    "## Aggregate"
   ]
  },
  {
   "cell_type": "code",
   "execution_count": 10,
   "metadata": {
    "ExecuteTime": {
     "end_time": "2020-10-06T00:41:09.224028Z",
     "start_time": "2020-10-06T00:40:41.108505Z"
    }
   },
   "outputs": [],
   "source": [
    "index_cols = ['shop_id', 'item_id', 'date_block_num']\n",
    "\n",
    "# For every month we create a grid from all shops/items combinations from that month\n",
    "grid = [] \n",
    "for block_num in sales['date_block_num'].unique():\n",
    "    cur_shops = sales[sales['date_block_num']==block_num]['shop_id'].unique()\n",
    "    cur_items = sales[sales['date_block_num']==block_num]['item_id'].unique()\n",
    "    grid.append(np.array(list(product(*[cur_shops, cur_items, [block_num]])),dtype='int32'))\n",
    "\n",
    "#turn the grid into pandas dataframe\n",
    "grid = pd.DataFrame(np.vstack(grid), columns = index_cols,dtype=np.int32)\n",
    "\n",
    "#get aggregated values for (shop_id, item_id, month)\n",
    "gb = sales.groupby(index_cols,as_index=False).agg({'item_cnt_day':'sum'})\n",
    "\n",
    "#fix column names\n",
    "gb.rename({\"item_cnt_day\":\"target\"}, inplace=True, axis=1)\n",
    "\n",
    "#join aggregated data to the grid\n",
    "train = pd.merge(grid, gb, how='left', on=index_cols).fillna(0)\n",
    "\n",
    "#sort the data\n",
    "train.sort_values(['date_block_num','shop_id','item_id'],inplace=True)"
   ]
  },
  {
   "cell_type": "markdown",
   "metadata": {},
   "source": [
    "## Join"
   ]
  },
  {
   "cell_type": "code",
   "execution_count": 11,
   "metadata": {
    "ExecuteTime": {
     "end_time": "2020-10-06T00:41:09.244277Z",
     "start_time": "2020-10-06T00:41:09.227028Z"
    }
   },
   "outputs": [],
   "source": [
    "def reduce_mem_usage(df, verbose=True):\n",
    "    numerics = ['int16', 'int32', 'int64', 'float16', 'float32', 'float64']\n",
    "    start_mem = df.memory_usage().sum() / 1024**2\n",
    "    for col in df.columns:\n",
    "        col_type = df[col].dtypes\n",
    "        if col_type in numerics:\n",
    "            c_min = df[col].min()\n",
    "            c_max = df[col].max()\n",
    "            if str(col_type)[:3] == 'int':\n",
    "                if c_min > np.iinfo(np.int8).min and c_max < np.iinfo(np.int8).max:\n",
    "                    df[col] = df[col].astype(np.int8)\n",
    "                elif c_min > np.iinfo(np.int16).min and c_max < np.iinfo(np.int16).max:\n",
    "                    df[col] = df[col].astype(np.int16)\n",
    "                elif c_min > np.iinfo(np.int32).min and c_max < np.iinfo(np.int32).max:\n",
    "                    df[col] = df[col].astype(np.int32)\n",
    "                elif c_min > np.iinfo(np.int64).min and c_max < np.iinfo(np.int64).max:\n",
    "                    df[col] = df[col].astype(np.int64)\n",
    "            else:\n",
    "                if c_min > np.finfo(np.float16).min and c_max < np.finfo(np.float16).max:\n",
    "                    df[col] = df[col].astype(np.float16)\n",
    "                elif c_min > np.finfo(np.float32).min and c_max < np.finfo(np.float32).max:\n",
    "                    df[col] = df[col].astype(np.float32)\n",
    "                else:\n",
    "                    df[col] = df[col].astype(np.float64)\n",
    "\n",
    "    end_mem = df.memory_usage().sum() / 1024**2\n",
    "    print('Memory usage after optimization is: {:.2f} MB'.format(end_mem))\n",
    "    print('Decreased by {:.1f}%'.format(100 * (start_mem - end_mem) / start_mem))\n",
    "\n",
    "    return df"
   ]
  },
  {
   "cell_type": "code",
   "execution_count": 12,
   "metadata": {
    "ExecuteTime": {
     "end_time": "2020-10-06T00:41:19.609142Z",
     "start_time": "2020-10-06T00:41:09.246707Z"
    },
    "scrolled": true
   },
   "outputs": [
    {
     "name": "stdout",
     "output_type": "stream",
     "text": [
      "Memory usage after optimization is: 156.12 MB\n",
      "Decreased by 58.3%\n"
     ]
    },
    {
     "data": {
      "text/html": [
       "<div>\n",
       "<style scoped>\n",
       "    .dataframe tbody tr th:only-of-type {\n",
       "        vertical-align: middle;\n",
       "    }\n",
       "\n",
       "    .dataframe tbody tr th {\n",
       "        vertical-align: top;\n",
       "    }\n",
       "\n",
       "    .dataframe thead th {\n",
       "        text-align: right;\n",
       "    }\n",
       "</style>\n",
       "<table border=\"1\" class=\"dataframe\">\n",
       "  <thead>\n",
       "    <tr style=\"text-align: right;\">\n",
       "      <th></th>\n",
       "      <th>shop_id</th>\n",
       "      <th>item_id</th>\n",
       "      <th>date_block_num</th>\n",
       "      <th>target</th>\n",
       "      <th>item_category_id</th>\n",
       "    </tr>\n",
       "  </thead>\n",
       "  <tbody>\n",
       "    <tr>\n",
       "      <th>0</th>\n",
       "      <td>0</td>\n",
       "      <td>19</td>\n",
       "      <td>0</td>\n",
       "      <td>0.0</td>\n",
       "      <td>40</td>\n",
       "    </tr>\n",
       "    <tr>\n",
       "      <th>1</th>\n",
       "      <td>0</td>\n",
       "      <td>27</td>\n",
       "      <td>0</td>\n",
       "      <td>0.0</td>\n",
       "      <td>19</td>\n",
       "    </tr>\n",
       "    <tr>\n",
       "      <th>2</th>\n",
       "      <td>0</td>\n",
       "      <td>28</td>\n",
       "      <td>0</td>\n",
       "      <td>0.0</td>\n",
       "      <td>30</td>\n",
       "    </tr>\n",
       "    <tr>\n",
       "      <th>3</th>\n",
       "      <td>0</td>\n",
       "      <td>29</td>\n",
       "      <td>0</td>\n",
       "      <td>0.0</td>\n",
       "      <td>23</td>\n",
       "    </tr>\n",
       "    <tr>\n",
       "      <th>4</th>\n",
       "      <td>0</td>\n",
       "      <td>32</td>\n",
       "      <td>0</td>\n",
       "      <td>6.0</td>\n",
       "      <td>40</td>\n",
       "    </tr>\n",
       "  </tbody>\n",
       "</table>\n",
       "</div>"
      ],
      "text/plain": [
       "   shop_id  item_id  date_block_num  target  item_category_id\n",
       "0        0       19               0     0.0                40\n",
       "1        0       27               0     0.0                19\n",
       "2        0       28               0     0.0                30\n",
       "3        0       29               0     0.0                23\n",
       "4        0       32               0     6.0                40"
      ]
     },
     "execution_count": 12,
     "metadata": {},
     "output_type": "execute_result"
    }
   ],
   "source": [
    "train = train.merge(items, on=\"item_id\", how=\"left\")\n",
    "train = train.merge(categories, on=\"item_category_id\", how=\"left\")\n",
    "train = train.merge(shops, on=\"shop_id\", how=\"left\")\n",
    "train.drop(columns=[\"item_name\", \"shop_name\", \"item_category_name\"], inplace=True)\n",
    "train = reduce_mem_usage(train)\n",
    "train.head() "
   ]
  },
  {
   "cell_type": "code",
   "execution_count": 13,
   "metadata": {
    "ExecuteTime": {
     "end_time": "2020-10-06T00:41:19.783042Z",
     "start_time": "2020-10-06T00:41:19.611464Z"
    },
    "scrolled": true
   },
   "outputs": [
    {
     "name": "stdout",
     "output_type": "stream",
     "text": [
      "Memory usage after optimization is: 3.47 MB\n",
      "Decreased by 64.6%\n"
     ]
    },
    {
     "data": {
      "text/html": [
       "<div>\n",
       "<style scoped>\n",
       "    .dataframe tbody tr th:only-of-type {\n",
       "        vertical-align: middle;\n",
       "    }\n",
       "\n",
       "    .dataframe tbody tr th {\n",
       "        vertical-align: top;\n",
       "    }\n",
       "\n",
       "    .dataframe thead th {\n",
       "        text-align: right;\n",
       "    }\n",
       "</style>\n",
       "<table border=\"1\" class=\"dataframe\">\n",
       "  <thead>\n",
       "    <tr style=\"text-align: right;\">\n",
       "      <th></th>\n",
       "      <th>ID</th>\n",
       "      <th>shop_id</th>\n",
       "      <th>item_id</th>\n",
       "      <th>date_block_num</th>\n",
       "      <th>item_category_id</th>\n",
       "    </tr>\n",
       "  </thead>\n",
       "  <tbody>\n",
       "    <tr>\n",
       "      <th>0</th>\n",
       "      <td>0</td>\n",
       "      <td>5</td>\n",
       "      <td>5037</td>\n",
       "      <td>34</td>\n",
       "      <td>19</td>\n",
       "    </tr>\n",
       "    <tr>\n",
       "      <th>1</th>\n",
       "      <td>1</td>\n",
       "      <td>5</td>\n",
       "      <td>5320</td>\n",
       "      <td>34</td>\n",
       "      <td>55</td>\n",
       "    </tr>\n",
       "    <tr>\n",
       "      <th>2</th>\n",
       "      <td>2</td>\n",
       "      <td>5</td>\n",
       "      <td>5233</td>\n",
       "      <td>34</td>\n",
       "      <td>19</td>\n",
       "    </tr>\n",
       "    <tr>\n",
       "      <th>3</th>\n",
       "      <td>3</td>\n",
       "      <td>5</td>\n",
       "      <td>5232</td>\n",
       "      <td>34</td>\n",
       "      <td>23</td>\n",
       "    </tr>\n",
       "    <tr>\n",
       "      <th>4</th>\n",
       "      <td>4</td>\n",
       "      <td>5</td>\n",
       "      <td>5268</td>\n",
       "      <td>34</td>\n",
       "      <td>20</td>\n",
       "    </tr>\n",
       "  </tbody>\n",
       "</table>\n",
       "</div>"
      ],
      "text/plain": [
       "   ID  shop_id  item_id  date_block_num  item_category_id\n",
       "0   0        5     5037              34                19\n",
       "1   1        5     5320              34                55\n",
       "2   2        5     5233              34                19\n",
       "3   3        5     5232              34                23\n",
       "4   4        5     5268              34                20"
      ]
     },
     "execution_count": 13,
     "metadata": {},
     "output_type": "execute_result"
    }
   ],
   "source": [
    "test = test.merge(items, on=\"item_id\", how=\"left\")\n",
    "test = test.merge(categories, on=\"item_category_id\", how=\"left\")\n",
    "test = test.merge(shops, on=\"shop_id\", how=\"left\")\n",
    "test.drop(columns=[\"item_name\", \"shop_name\", \"item_category_name\"], inplace=True)\n",
    "test = reduce_mem_usage(test)\n",
    "test.head()"
   ]
  },
  {
   "cell_type": "markdown",
   "metadata": {},
   "source": [
    "## Test / Validation Split"
   ]
  },
  {
   "cell_type": "code",
   "execution_count": 14,
   "metadata": {
    "ExecuteTime": {
     "end_time": "2020-10-06T00:41:22.213076Z",
     "start_time": "2020-10-06T00:41:19.785520Z"
    }
   },
   "outputs": [],
   "source": [
    "def get_index(start, end, df, col):\n",
    "    ls = [x for x in range(start , end + 1)]\n",
    "    idx = df[df[col].isin(ls)].index.ravel()\n",
    "    return idx\n",
    "\n",
    "# 2013-jan >> 2013-oct\n",
    "train_1 = get_index(0, 10, train, \"date_block_num\")\n",
    "\n",
    "# 2013-nov\n",
    "val_1 = get_index(10, 10, train, \"date_block_num\")\n",
    "\n",
    "# 2014-jan >> 2014-oct\n",
    "train_2 = get_index(12, 22, train, \"date_block_num\")\n",
    "\n",
    "# 2014-nov\n",
    "val_2 = get_index(22, 22, train, \"date_block_num\")\n",
    "\n",
    "# 2015-jan >> 2015-sep\n",
    "train_3 = get_index(24, 33, train, \"date_block_num\")\n",
    "\n",
    "# 2015-oct\n",
    "val_3 = get_index(33, 33, train, \"date_block_num\")\n",
    "\n",
    "# 2013-jan >> 2015-sep\n",
    "train_all = get_index(0, 33, train, \"date_block_num\")\n",
    "\n",
    "folds = [(train_1, val_1), (train_2, val_2), (train_3, val_3)]"
   ]
  },
  {
   "cell_type": "markdown",
   "metadata": {},
   "source": [
    "## Features / Target"
   ]
  },
  {
   "cell_type": "code",
   "execution_count": 15,
   "metadata": {
    "ExecuteTime": {
     "end_time": "2020-10-06T00:41:22.222163Z",
     "start_time": "2020-10-06T00:41:22.215459Z"
    }
   },
   "outputs": [],
   "source": [
    "remove_cols = [\"target\", \"item_name\", \"item_category_name\", \"shop_name\"]\n",
    "features = [col for col in train.columns if col not in remove_cols]\n",
    "target=\"target\""
   ]
  },
  {
   "cell_type": "markdown",
   "metadata": {},
   "source": [
    "## General Approach for Parameter Tuning\n",
    "https://www.analyticsvidhya.com/blog/2016/03/complete-guide-parameter-tuning-xgboost-with-codes-python/"
   ]
  },
  {
   "cell_type": "markdown",
   "metadata": {},
   "source": [
    "1. Choose a relatively high learning rate. Generally a learning rate of 0.1 works but somewhere between 0.05 to 0.3 should work for different problems. Determine the optimum number of trees for this learning rate. XGBoost has a very useful function called as “cv” which performs cross-validation at each boosting iteration and thus returns the optimum number of trees required.\n",
    "2. Tune tree-specific parameters ( max_depth, min_child_weight, gamma, subsample, colsample_bytree) for decided learning rate and number of trees. Note that we can choose different parameters to define a tree and I’ll take up an example here.\n",
    "3. Tune regularization parameters (lambda, alpha) for xgboost which can help reduce model complexity and enhance performance.\n",
    "4. Lower the learning rate and decide the optimal parameters ."
   ]
  },
  {
   "cell_type": "markdown",
   "metadata": {},
   "source": [
    "### Step 1 - "
   ]
  },
  {
   "cell_type": "code",
   "execution_count": null,
   "metadata": {},
   "outputs": [],
   "source": [
    "def modelfit(alg, dtrain, predictors, useTrainCV=True, cv_folds=5, early_stopping_rounds=50):\n",
    "    \n",
    "    if useTrainCV:\n",
    "        xgb_param = alg.get_xgb_params()\n",
    "        xgtrain = xgb.DMatrix(dtrain[predictors].values, label=dtrain[target].values)\n",
    "        cvresult = xgb.cv(xgb_param, xgtrain, num_boost_round=alg.get_params()['n_estimators'], nfold=cv_folds,\n",
    "            metrics='auc', early_stopping_rounds=early_stopping_rounds, show_progress=False)\n",
    "        alg.set_params(n_estimators=cvresult.shape[0])\n",
    "    \n",
    "    #Fit the algorithm on the data\n",
    "    alg.fit(dtrain[predictors], dtrain['Disbursed'],eval_metric='auc')\n",
    "        \n",
    "    #Predict training set:\n",
    "    dtrain_predictions = alg.predict(dtrain[predictors])\n",
    "    dtrain_predprob = alg.predict_proba(dtrain[predictors])[:,1]\n",
    "        \n",
    "    #Print model report:\n",
    "    print \"\\nModel Report\"\n",
    "    print \"Accuracy : %.4g\" % metrics.accuracy_score(dtrain['Disbursed'].values, dtrain_predictions)\n",
    "    print \"AUC Score (Train): %f\" % metrics.roc_auc_score(dtrain['Disbursed'], dtrain_predprob)\n",
    "                    \n",
    "    feat_imp = pd.Series(alg.booster().get_fscore()).sort_values(ascending=False)\n",
    "    feat_imp.plot(kind='bar', title='Feature Importances')\n",
    "    plt.ylabel('Feature Importance Score')"
   ]
  },
  {
   "cell_type": "code",
   "execution_count": 16,
   "metadata": {
    "ExecuteTime": {
     "end_time": "2020-10-06T00:41:22.227704Z",
     "start_time": "2020-10-06T00:41:22.224239Z"
    },
    "scrolled": true
   },
   "outputs": [],
   "source": [
    "from xgboost import XGBRegressor\n",
    "\n",
    "xgb = XGBRegressor(random_state=42, n_jobs=1, verbosity=1)"
   ]
  },
  {
   "cell_type": "markdown",
   "metadata": {},
   "source": [
    "## Grid Search"
   ]
  },
  {
   "cell_type": "code",
   "execution_count": 17,
   "metadata": {
    "ExecuteTime": {
     "end_time": "2020-10-06T00:41:22.237517Z",
     "start_time": "2020-10-06T00:41:22.229873Z"
    }
   },
   "outputs": [],
   "source": [
    "from sklearn.model_selection import RandomizedSearchCV\n",
    "\n",
    "parameters = {\"learning_rate\":[0.03, 0.1, 0.3, 1],\n",
    "              \"min_child_weight\":[1, 3, 10],\n",
    "              \"max_depth\":[3, 10, 30],\n",
    "              \"gamma\":[0, 0.1, 0.3, 1],\n",
    "              \"subsample\":[0.1, 0.3, 1],\n",
    "              \"colsample_bytree\":[0.1, 0.3, 1],\n",
    "              \"n_estimators\":[10, 30, 100]}\n",
    "\n",
    "# X_eval = train.loc[val_3, features]\n",
    "# y_eval = train.loc[val_3, target]\n",
    "\n",
    "# fit_params={\"early_stopping_rounds\":10, \n",
    "#             \"eval_metric\" : \"rmse\", \n",
    "#             \"eval_set\" : [[X_eval, y_eval]]}\n",
    "\n",
    "rs = RandomizedSearchCV(estimator=xgb,\n",
    "                        param_distributions=parameters,\n",
    "                        n_iter=48,\n",
    "                        scoring=\"neg_mean_squared_error\",\n",
    "                        cv=folds,\n",
    "                        verbose=2,\n",
    "                        n_jobs=24,\n",
    "                        pre_dispatch=24,\n",
    "                        random_state=42)\n",
    "\n",
    "# search = rs.fit(X=train[features], y=train[target])"
   ]
  },
  {
   "cell_type": "code",
   "execution_count": 18,
   "metadata": {
    "ExecuteTime": {
     "end_time": "2020-10-06T00:41:22.242670Z",
     "start_time": "2020-10-06T00:41:22.239971Z"
    }
   },
   "outputs": [],
   "source": [
    "# search.best_params_\n",
    "\n",
    "# {'subsample': 1,\n",
    "#  'n_estimators': 30,\n",
    "#  'min_child_weight': 10,\n",
    "#  'max_depth': 30,\n",
    "#  'learning_rate': 0.1,\n",
    "#  'gamma': 0.3,\n",
    "#  'colsample_bytree': 1}"
   ]
  },
  {
   "cell_type": "markdown",
   "metadata": {},
   "source": [
    "## Learning Curve"
   ]
  },
  {
   "cell_type": "code",
   "execution_count": 19,
   "metadata": {
    "ExecuteTime": {
     "end_time": "2020-10-06T00:41:22.249981Z",
     "start_time": "2020-10-06T00:41:22.245074Z"
    }
   },
   "outputs": [],
   "source": [
    "# xgb = XGBRegressor(tree_method=\"exact\",\n",
    "#                    objective=\"reg:squarederror\",\n",
    "#                    subsample=1,\n",
    "#                    n_estimators=100,\n",
    "#                    min_child_weight=10,\n",
    "#                    max_depth=30,\n",
    "#                    learning_rate=0.1,\n",
    "#                    gamma=0.3,\n",
    "#                    colsample_bytree=1,\n",
    "#                    random_state=42, \n",
    "#                    n_jobs=24,\n",
    "#                    verbosity=1)\n",
    "\n",
    "xgb = XGBRegressor(tree_method=\"exact\",\n",
    "                   objective=\"reg:squarederror\",\n",
    "                   subsample=1,\n",
    "                   n_estimators=3000,\n",
    "                   min_child_weight=10,\n",
    "                   max_depth=10,\n",
    "                   learning_rate=0.3,\n",
    "                   gamma=0.3,\n",
    "                   colsample_bytree=1,\n",
    "                   random_state=42, \n",
    "                   n_jobs=24,\n",
    "                   verbosity=1)"
   ]
  },
  {
   "cell_type": "code",
   "execution_count": 20,
   "metadata": {
    "ExecuteTime": {
     "end_time": "2020-10-06T00:41:25.445618Z",
     "start_time": "2020-10-06T00:41:22.251966Z"
    }
   },
   "outputs": [],
   "source": [
    "X_train = train.loc[train_all, features]\n",
    "y_train = train.loc[train_all, target]\n",
    "X_eval = train.loc[val_3, features]\n",
    "y_eval = train.loc[val_3, target]\n",
    "eval_set = [(X_train, y_train), (X_eval, y_eval)]"
   ]
  },
  {
   "cell_type": "code",
   "execution_count": 24,
   "metadata": {
    "ExecuteTime": {
     "end_time": "2020-10-06T00:45:16.967482Z",
     "start_time": "2020-10-06T00:45:16.962523Z"
    },
    "scrolled": true
   },
   "outputs": [],
   "source": [
    "model = None\n",
    "# model = xgb.fit(X_train, y_train,\n",
    "#                 eval_set=eval_set,\n",
    "#                 eval_metric=\"rmse\",\n",
    "#                 verbose=True)"
   ]
  },
  {
   "cell_type": "code",
   "execution_count": 25,
   "metadata": {
    "ExecuteTime": {
     "end_time": "2020-10-06T00:45:18.206624Z",
     "start_time": "2020-10-06T00:45:17.297900Z"
    }
   },
   "outputs": [],
   "source": [
    "model_name = \"Model_XGBoost_Tuned_3000_estimators\"\n",
    "\n",
    "from joblib import dump, load\n",
    "if model is not None:\n",
    "    dump(model, Path(MODEL_PATH, model_filename+\".joblib\"))\n",
    "else:\n",
    "    model = load(Path(MODEL_PATH, model_name+\".joblib\"))\n",
    "    "
   ]
  },
  {
   "cell_type": "code",
   "execution_count": 26,
   "metadata": {
    "ExecuteTime": {
     "end_time": "2020-10-06T00:45:20.623086Z",
     "start_time": "2020-10-06T00:45:20.614136Z"
    }
   },
   "outputs": [
    {
     "name": "stdout",
     "output_type": "stream",
     "text": [
      "train final score [0.922471]\n"
     ]
    }
   ],
   "source": [
    "print(\"train final score\", model.evals_result_[\"validation_0\"][\"rmse\"][-1:])"
   ]
  },
  {
   "cell_type": "code",
   "execution_count": 27,
   "metadata": {
    "ExecuteTime": {
     "end_time": "2020-10-06T00:45:21.265497Z",
     "start_time": "2020-10-06T00:45:21.258046Z"
    },
    "scrolled": true
   },
   "outputs": [
    {
     "name": "stdout",
     "output_type": "stream",
     "text": [
      "val final score [0.922306]\n"
     ]
    }
   ],
   "source": [
    "print(\"val final score\", model.evals_result_[\"validation_1\"][\"rmse\"][-1:])"
   ]
  },
  {
   "cell_type": "code",
   "execution_count": 28,
   "metadata": {
    "ExecuteTime": {
     "end_time": "2020-10-06T00:45:25.229898Z",
     "start_time": "2020-10-06T00:45:24.934257Z"
    },
    "scrolled": true
   },
   "outputs": [
    {
     "data": {
      "image/png": "[encoded data removed]",
      "text/plain": [
       "<Figure size 432x288 with 1 Axes>"
      ]
     },
     "metadata": {
      "needs_background": "light"
     },
     "output_type": "display_data"
    }
   ],
   "source": [
    "import matplotlib.pyplot as plt\n",
    "\n",
    "# retrieve performance metrics\n",
    "results = model.evals_result()\n",
    "epochs = len(results['validation_0']['rmse'])\n",
    "x_axis = range(0, epochs)\n",
    "# plot log loss\n",
    "fig, ax = plt.subplots()\n",
    "ax.plot(x_axis, results['validation_0']['rmse'], label='Train')\n",
    "ax.plot(x_axis, results['validation_1']['rmse'], label='Val')\n",
    "ax.legend()\n",
    "plt.ylabel('Log Loss')\n",
    "plt.title('XGBoost Log Loss')\n",
    "plt.show()"
   ]
  },
  {
   "cell_type": "markdown",
   "metadata": {},
   "source": [
    "## Predictions"
   ]
  },
  {
   "cell_type": "code",
   "execution_count": 29,
   "metadata": {
    "ExecuteTime": {
     "end_time": "2020-10-06T00:45:35.089101Z",
     "start_time": "2020-10-06T00:45:27.946010Z"
    }
   },
   "outputs": [],
   "source": [
    "pred = pred_model.predict(test[features])\n",
    "pred = np.clip(pred, 0, 20)"
   ]
  },
  {
   "cell_type": "markdown",
   "metadata": {},
   "source": [
    "## Submission"
   ]
  },
  {
   "cell_type": "code",
   "execution_count": 31,
   "metadata": {
    "ExecuteTime": {
     "end_time": "2020-10-06T00:49:04.456149Z",
     "start_time": "2020-10-06T00:49:03.624203Z"
    }
   },
   "outputs": [
    {
     "name": "stdout",
     "output_type": "stream",
     "text": [
      "/bin/bash: kaggle: command not found\r\n"
     ]
    }
   ],
   "source": [
    "submission = pd.DataFrame({\"ID\":range(pred.shape[0]),\n",
    "                           \"item_cnt_month\":pred})\n",
    "\n",
    "sub_file_name = \"submission_\"+model_name+\".csv\"\n",
    "\n",
    "submission[[\"ID\", \"item_cnt_month\"]].to_csv(Path(MODEL_PATH, sub_file_name),\n",
    "                                            index=False)\n",
    "\n",
    "!kaggle competitions submit -c competitive-data-science-predict-future-sales -f $sub_file_name -m \"Model_XGBoost_Tuned_3000_estimators\""
   ]
  },
  {
   "cell_type": "code",
   "execution_count": null,
   "metadata": {},
   "outputs": [],
   "source": []
  }
 ],
 "metadata": {
  "kernelspec": {
   "display_name": "Python [conda env:hse_comp_ds] *",
   "language": "python",
   "name": "conda-env-hse_comp_ds-py"
  },
  "language_info": {
   "codemirror_mode": {
    "name": "ipython",
    "version": 3
   },
   "file_extension": ".py",
   "mimetype": "text/x-python",
   "name": "python",
   "nbconvert_exporter": "python",
   "pygments_lexer": "ipython3",
   "version": "3.8.3"
  }
 },
 "nbformat": 4,
 "nbformat_minor": 4
}
